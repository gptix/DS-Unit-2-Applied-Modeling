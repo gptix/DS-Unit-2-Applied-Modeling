{
  "nbformat": 4,
  "nbformat_minor": 0,
  "metadata": {
    "kernelspec": {
      "display_name": "Python 3",
      "language": "python",
      "name": "python3"
    },
    "language_info": {
      "codemirror_mode": {
        "name": "ipython",
        "version": 3
      },
      "file_extension": ".py",
      "mimetype": "text/x-python",
      "name": "python",
      "nbconvert_exporter": "python",
      "pygments_lexer": "ipython3",
      "version": "3.7.3"
    },
    "colab": {
      "name": "ASSIGNMENT - Jud Taylor - LS_DS_234_assignment.ipynb",
      "provenance": [],
      "collapsed_sections": [],
      "include_colab_link": true
    }
  },
  "cells": [
    {
      "cell_type": "markdown",
      "metadata": {
        "id": "view-in-github",
        "colab_type": "text"
      },
      "source": [
        "<a href=\"https://colab.research.google.com/github/gptix/DS-Unit-2-Applied-Modeling/blob/master/module4/ASSIGNMENT_Jud_Taylor_LS_DS_234_assignment.ipynb\" target=\"_parent\"><img src=\"https://colab.research.google.com/assets/colab-badge.svg\" alt=\"Open In Colab\"/></a>"
      ]
    },
    {
      "cell_type": "markdown",
      "metadata": {
        "id": "p5C0eJI-7rz-",
        "colab_type": "text"
      },
      "source": [
        "\n",
        "Lambda School Data Science\n",
        "\n",
        "*Unit 2, Sprint 3, Module 4*\n",
        "\n",
        "---"
      ]
    },
    {
      "cell_type": "markdown",
      "metadata": {
        "id": "VFxI7qzJ7r0C",
        "colab_type": "text"
      },
      "source": [
        "# Model Interpretation\n",
        "\n",
        "You will use your portfolio project dataset for all assignments this sprint.\n",
        "\n",
        "## Assignment\n",
        "\n",
        "Complete these tasks for your project, and document your work.\n",
        "\n",
        "- [ ] Continue to iterate on your project: data cleaning, exploratory visualization, feature engineering, modeling.\n",
        "- [ ] Make at least 1 partial dependence plot to explain your model.\n",
        "- [ ] Make at least 1 Shapley force plot to explain an individual prediction.\n",
        "- [ ] **Share at least 1 visualization (of any type) on Slack!**\n",
        "\n",
        "If you aren't ready to make these plots with your own dataset, you can practice these objectives with any dataset you've worked with previously. Example solutions are available for Partial Dependence Plots with the Tanzania Waterpumps dataset, and Shapley force plots with the Titanic dataset. (These datasets are available in the data directory of this repository.)\n",
        "\n",
        "Please be aware that **multi-class classification** will result in multiple Partial Dependence Plots (one for each class), and multiple sets of Shapley Values (one for each class)."
      ]
    },
    {
      "cell_type": "markdown",
      "metadata": {
        "id": "tUx2-wci7r0D",
        "colab_type": "text"
      },
      "source": [
        "## Stretch Goals\n",
        "\n",
        "#### Partial Dependence Plots\n",
        "- [ ] Make multiple PDPs with 1 feature in isolation.\n",
        "- [ ] Make multiple PDPs with 2 features in interaction. \n",
        "- [ ] Use Plotly to make a 3D PDP.\n",
        "- [ ] Make PDPs with categorical feature(s). Use Ordinal Encoder, outside of a pipeline, to encode your data first. If there is a natural ordering, then take the time to encode it that way, instead of random integers. Then use the encoded data with pdpbox. Get readable category names on your plot, instead of integer category codes.\n",
        "\n",
        "#### Shap Values\n",
        "- [ ] Make Shapley force plots to explain at least 4 individual predictions.\n",
        "    - If your project is Binary Classification, you can do a True Positive, True Negative, False Positive, False Negative.\n",
        "    - If your project is Regression, you can do a high prediction with low error, a low prediction with low error, a high prediction with high error, and a low prediction with high error.\n",
        "- [ ] Use Shapley values to display verbal explanations of individual predictions.\n",
        "- [ ] Use the SHAP library for other visualization types.\n",
        "\n",
        "The [SHAP repo](https://github.com/slundberg/shap) has examples for many visualization types, including:\n",
        "\n",
        "- Force Plot, individual predictions\n",
        "- Force Plot, multiple predictions\n",
        "- Dependence Plot\n",
        "- Summary Plot\n",
        "- Summary Plot, Bar\n",
        "- Interaction Values\n",
        "- Decision Plots\n",
        "\n",
        "We just did the first type during the lesson. The [Kaggle microcourse](https://www.kaggle.com/dansbecker/advanced-uses-of-shap-values) shows two more. Experiment and see what you can learn!"
      ]
    },
    {
      "cell_type": "markdown",
      "metadata": {
        "id": "T_cNijCU7r0F",
        "colab_type": "text"
      },
      "source": [
        "### Links\n",
        "\n",
        "#### Partial Dependence Plots\n",
        "- [Kaggle / Dan Becker: Machine Learning Explainability — Partial Dependence Plots](https://www.kaggle.com/dansbecker/partial-plots)\n",
        "- [Christoph Molnar: Interpretable Machine Learning — Partial Dependence Plots](https://christophm.github.io/interpretable-ml-book/pdp.html) + [animated explanation](https://twitter.com/ChristophMolnar/status/1066398522608635904)\n",
        "- [pdpbox repo](https://github.com/SauceCat/PDPbox) & [docs](https://pdpbox.readthedocs.io/en/latest/)\n",
        "- [Plotly: 3D PDP example](https://plot.ly/scikit-learn/plot-partial-dependence/#partial-dependence-of-house-value-on-median-age-and-average-occupancy)\n",
        "\n",
        "#### Shapley Values\n",
        "- [Kaggle / Dan Becker: Machine Learning Explainability — SHAP Values](https://www.kaggle.com/learn/machine-learning-explainability)\n",
        "- [Christoph Molnar: Interpretable Machine Learning — Shapley Values](https://christophm.github.io/interpretable-ml-book/shapley.html)\n",
        "- [SHAP repo](https://github.com/slundberg/shap) & [docs](https://shap.readthedocs.io/en/latest/)"
      ]
    },
    {
      "cell_type": "markdown",
      "metadata": {
        "id": "Kcaj5dIEFB1C",
        "colab_type": "text"
      },
      "source": [
        "## Ingest Data"
      ]
    },
    {
      "cell_type": "code",
      "metadata": {
        "id": "qi73EqqF7r0G",
        "colab_type": "code",
        "colab": {}
      },
      "source": [
        "%%capture\n",
        "import sys\n",
        "\n",
        "# If you're on Colab:\n",
        "if 'google.colab' in sys.modules:\n",
        "    # DATA_PATH = 'https://raw.githubusercontent.com/LambdaSchool/DS-Unit-2-Applied-Modeling/master/data/'\n",
        "    DATA_PATH = 'https://raw.githubusercontent.com/gptix/Project2/master/'\n",
        "    !pip install category_encoders==2.*\n",
        "    !pip install eli5\n",
        "    !pip install pdpbox\n",
        "    !pip install shap\n",
        "    !pip install pandas-profiling==2.*\n",
        "\n",
        "# If you're working locally:\n",
        "else:\n",
        "    DATA_PATH = '../data/'"
      ],
      "execution_count": 0,
      "outputs": []
    },
    {
      "cell_type": "code",
      "metadata": {
        "id": "ROeLnqJ97r0L",
        "colab_type": "code",
        "outputId": "940fe459-2c9c-47d7-f15c-a3aa95227a21",
        "colab": {
          "base_uri": "https://localhost:8080/",
          "height": 33
        }
      },
      "source": [
        "import pandas as pd\n",
        "\n",
        "# I extracted these column names from the text file \n",
        "# https://archive.ics.uci.edu/ml/machine-learning-databases/mushroom/agaricus-lepiota.names\n",
        "# I added the column 'poisonous', which was unlabeled in the original set.\n",
        "\n",
        "colnames = ['poisonous', 'cap-shape', 'cap-surface', 'cap-color', 'bruises?',\n",
        "            'odor', 'gill-attachment', 'gill-spacing', 'gill-size',\n",
        "            'gill-color', 'stalk-shape', 'stalk-root', \n",
        "            'stalk-surface-above-ring', 'stalk-surface-below-ring',\n",
        "            'stalk-color-above-ring', 'stalk-color-below-ring', 'veil-type', \n",
        "            'veil-color', 'ring-number', 'ring-type', 'spore-print-color', \n",
        "            'population', 'habitat']\n",
        "\n",
        "filename = 'agaricus-lepiota.data?token=AFCZYWEJZMR7ABZFRB62GKK6AEJIM'\n",
        "\n",
        "df = pd.read_csv(DATA_PATH + filename, header=None, names=colnames)\n",
        "df.shape"
      ],
      "execution_count": 2,
      "outputs": [
        {
          "output_type": "execute_result",
          "data": {
            "text/plain": [
              "(8124, 23)"
            ]
          },
          "metadata": {
            "tags": []
          },
          "execution_count": 2
        }
      ]
    },
    {
      "cell_type": "code",
      "metadata": {
        "id": "rk9CGzApEU6P",
        "colab_type": "code",
        "colab": {}
      },
      "source": [
        "df_bak = df.copy()"
      ],
      "execution_count": 0,
      "outputs": []
    },
    {
      "cell_type": "code",
      "metadata": {
        "id": "N3vUzyALEXw2",
        "colab_type": "code",
        "colab": {}
      },
      "source": [
        "# df = df_bak.copy()"
      ],
      "execution_count": 0,
      "outputs": []
    },
    {
      "cell_type": "markdown",
      "metadata": {
        "id": "ItxcSOBaFIEF",
        "colab_type": "text"
      },
      "source": [
        "## Examine Data"
      ]
    },
    {
      "cell_type": "code",
      "metadata": {
        "id": "rmw-FoMAEd-D",
        "colab_type": "code",
        "outputId": "bbc19412-6dc8-4a8d-c171-5d35185c30ce",
        "colab": {
          "base_uri": "https://localhost:8080/",
          "height": 131
        }
      },
      "source": [
        "df.head()\n",
        "df.columns"
      ],
      "execution_count": 5,
      "outputs": [
        {
          "output_type": "execute_result",
          "data": {
            "text/plain": [
              "Index(['poisonous', 'cap-shape', 'cap-surface', 'cap-color', 'bruises?',\n",
              "       'odor', 'gill-attachment', 'gill-spacing', 'gill-size', 'gill-color',\n",
              "       'stalk-shape', 'stalk-root', 'stalk-surface-above-ring',\n",
              "       'stalk-surface-below-ring', 'stalk-color-above-ring',\n",
              "       'stalk-color-below-ring', 'veil-type', 'veil-color', 'ring-number',\n",
              "       'ring-type', 'spore-print-color', 'population', 'habitat'],\n",
              "      dtype='object')"
            ]
          },
          "metadata": {
            "tags": []
          },
          "execution_count": 5
        }
      ]
    },
    {
      "cell_type": "markdown",
      "metadata": {
        "id": "uQK6M0t3FRh9",
        "colab_type": "text"
      },
      "source": [
        "## Wrangle Data\n"
      ]
    },
    {
      "cell_type": "markdown",
      "metadata": {
        "id": "bpZCtP3hR2KP",
        "colab_type": "text"
      },
      "source": [
        "### Replace single-letter codes with full words, for readability.\n",
        "These will be encoded as integers anyway."
      ]
    },
    {
      "cell_type": "code",
      "metadata": {
        "id": "1JbYY0YBLQUS",
        "colab_type": "code",
        "colab": {}
      },
      "source": [
        "df['cap-shape'] = df['cap-shape'].map({'b' : 'bell', 'c' : 'conical', 'x' : 'convex', 'f' : 'flat', 'k' : 'WYknobbed', 's' : 'sunken'})\n",
        "df['cap-surface'] = df['cap-surface'].map({'f' : 'fibrous', 'g' : 'grooves', 'y' : 'scaly', 's' : 'smooth'})\n",
        "df['cap-color'] = df['cap-color'].map({'n' : 'brown', 'b' : 'buff', 'c' : 'cinnamon', 'g' : 'gray', 'r' : 'green', 'p' : 'pink', 'u' : 'purple', 'e' : 'red', 'w' : 'white', 'y' : 'yellow'})\n",
        "df['bruises?'] = df['bruises?'].map({'t' : 'bruises', 'f' : 'no'})\n",
        "df['odor'] = df['odor'].map({'a' : 'almond', 'l' : 'anise', 'c' : 'creosote', 'y' : 'fishy', 'f' : 'foul', 'm' : 'musty', 'n' : 'none', 'p' : 'pungent', 's' : 'spicy'})\n",
        "df['gill-attachment'] = df['gill-attachment'].map({'a' : 'attached', 'd' : 'descending', 'f' : 'free', 'n' : 'notched'})\n",
        "df['gill-spacing'] = df['gill-spacing'].map({'c' : 'close', 'w' : 'crowded', 'd' : 'distant'})\n",
        "df['gill-size'] = df['gill-size'].map({'b' : 'broad', 'n' : 'narrow'})\n",
        "df['gill-color'] = df['gill-color'].map({'k' : 'black', 'n' : 'brown', 'b' : 'buff', 'h' : 'chocolate', 'g' : 'gray', 'r' : 'green', 'o' : 'orange', 'p' : 'pink', 'u' : 'purple', 'e' : 'red', 'w' : 'white', 'y' : 'yellow'})\n",
        "df['stalk-shape'] = df['stalk-shape'].map({'e' : 'enlarging', 't' : 'tapering'})\n",
        "df['stalk-root'] = df['stalk-root'].map({'b' : 'bulbous', 'c' : 'club', 'u' : 'cup', 'e' : 'equal', 'z' : 'rhizomorphs', 'r' : 'rooted', '?' : 'missing'})\n",
        "df['stalk-surface-above-ring'] = df['stalk-surface-above-ring'].map({'f' : 'fibrous', 'y' : 'scaly', 'k' : 'silky', 's' : 'smooth'})\n",
        "df['stalk-surface-below-ring'] = df['stalk-surface-below-ring'].map({'f' : 'fibrous', 'y' : 'scaly', 'k' : 'silky', 's' : 'smooth'})\n",
        "df['stalk-color-above-ring'] = df['stalk-color-above-ring'].map({'n' : 'brown', 'b' : 'buff', 'c' : 'cinnamon', 'g' : 'gray', 'o' : 'orange', 'p' : 'pink', 'e' : 'red', 'w' : 'white', 'y' : 'yellow'})\n",
        "df['stalk-color-below-ring'] = df['stalk-color-below-ring'].map({'n' : 'brown', 'b' : 'buff', 'c' : 'cinnamon', 'g' : 'gray', 'o' : 'orange', 'p' : 'pink', 'e' : 'red', 'w' : 'white', 'y' : 'yellow'})\n",
        "df['veil-type'] = df['veil-type'].map({'p' : 'partial', 'u' : 'universal'})\n",
        "df['veil-color'] = df['veil-color'].map({'n' : 'brown', 'o' : 'orange', 'w' : 'white', 'y' : 'yellow'})\n",
        "df['ring-number'] = df['ring-number'].map({'n' : 'none', 'o' : 'one', 't' : 'two'})\n",
        "df['ring-type'] = df['ring-type'].map({'c' : 'cobwebby', 'e' : 'evanescent', 'f' : 'flaring', 'l' : 'large', 'n' : 'none', 'p' : 'pendant', 's' : 'sheathing', 'z' : 'zone'})\n",
        "df['spore-print-color'] = df['spore-print-color'].map({'k' : 'black', 'n' : 'brown', 'b' : 'buff', 'h' : 'chocolate', 'r' : 'green', 'o' : 'orange', 'u' : 'purple', 'w' : 'white', 'y' : 'yellow'})\n",
        "df['population'] = df['population'].map({'a' : 'abundant', 'c' : 'clustered', 'n' : 'numerous', 's' : 'scattered', 'v' : 'several', 'y' : 'solitary'})\n",
        "df['habitat'] = df['habitat'].map({'g' : 'grasses', 'l' : 'leaves', 'm' : 'meadows', 'p' : 'paths', 'u' : 'urban', 'w' : 'waste', 'd' : 'woods'})"
      ],
      "execution_count": 0,
      "outputs": []
    },
    {
      "cell_type": "markdown",
      "metadata": {
        "id": "umzv0G-uSLyi",
        "colab_type": "text"
      },
      "source": [
        "### More wrangling."
      ]
    },
    {
      "cell_type": "code",
      "metadata": {
        "id": "GVis4rVeHU98",
        "colab_type": "code",
        "colab": {}
      },
      "source": [
        "def wrangle(frame):\n",
        "  # replace dashes in column names with underscores\n",
        "  frame.columns = [colname.replace('-','_') for colname in frame.columns]\n",
        "  frame['poisonous'] = frame['poisonous'] == 'p'"
      ],
      "execution_count": 0,
      "outputs": []
    },
    {
      "cell_type": "code",
      "metadata": {
        "id": "xbVa9SQwJca4",
        "colab_type": "code",
        "outputId": "a7de1cec-835f-42ad-8ce4-1b5119377b8a",
        "colab": {
          "base_uri": "https://localhost:8080/",
          "height": 131
        }
      },
      "source": [
        "wrangle(df)\n",
        "\n",
        "df.head()\n",
        "df.columns"
      ],
      "execution_count": 26,
      "outputs": [
        {
          "output_type": "execute_result",
          "data": {
            "text/plain": [
              "Index(['poisonous', 'cap_shape', 'cap_surface', 'cap_color', 'bruises?',\n",
              "       'odor', 'gill_attachment', 'gill_spacing', 'gill_size', 'gill_color',\n",
              "       'stalk_shape', 'stalk_root', 'stalk_surface_above_ring',\n",
              "       'stalk_surface_below_ring', 'stalk_color_above_ring',\n",
              "       'stalk_color_below_ring', 'veil_type', 'veil_color', 'ring_number',\n",
              "       'ring_type', 'spore_print_color', 'population', 'habitat'],\n",
              "      dtype='object')"
            ]
          },
          "metadata": {
            "tags": []
          },
          "execution_count": 26
        }
      ]
    },
    {
      "cell_type": "code",
      "metadata": {
        "id": "ld2Yh_3PPMMk",
        "colab_type": "code",
        "outputId": "60657ff6-ec61-4c73-dd0c-212e4fced5ba",
        "colab": {
          "base_uri": "https://localhost:8080/",
          "height": 211
        }
      },
      "source": [
        "df.head()"
      ],
      "execution_count": 27,
      "outputs": [
        {
          "output_type": "execute_result",
          "data": {
            "text/html": [
              "<div>\n",
              "<style scoped>\n",
              "    .dataframe tbody tr th:only-of-type {\n",
              "        vertical-align: middle;\n",
              "    }\n",
              "\n",
              "    .dataframe tbody tr th {\n",
              "        vertical-align: top;\n",
              "    }\n",
              "\n",
              "    .dataframe thead th {\n",
              "        text-align: right;\n",
              "    }\n",
              "</style>\n",
              "<table border=\"1\" class=\"dataframe\">\n",
              "  <thead>\n",
              "    <tr style=\"text-align: right;\">\n",
              "      <th></th>\n",
              "      <th>poisonous</th>\n",
              "      <th>cap_shape</th>\n",
              "      <th>cap_surface</th>\n",
              "      <th>cap_color</th>\n",
              "      <th>bruises?</th>\n",
              "      <th>odor</th>\n",
              "      <th>gill_attachment</th>\n",
              "      <th>gill_spacing</th>\n",
              "      <th>gill_size</th>\n",
              "      <th>gill_color</th>\n",
              "      <th>stalk_shape</th>\n",
              "      <th>stalk_root</th>\n",
              "      <th>stalk_surface_above_ring</th>\n",
              "      <th>stalk_surface_below_ring</th>\n",
              "      <th>stalk_color_above_ring</th>\n",
              "      <th>stalk_color_below_ring</th>\n",
              "      <th>veil_type</th>\n",
              "      <th>veil_color</th>\n",
              "      <th>ring_number</th>\n",
              "      <th>ring_type</th>\n",
              "      <th>spore_print_color</th>\n",
              "      <th>population</th>\n",
              "      <th>habitat</th>\n",
              "    </tr>\n",
              "  </thead>\n",
              "  <tbody>\n",
              "    <tr>\n",
              "      <th>0</th>\n",
              "      <td>True</td>\n",
              "      <td>convex</td>\n",
              "      <td>smooth</td>\n",
              "      <td>brown</td>\n",
              "      <td>bruises</td>\n",
              "      <td>pungent</td>\n",
              "      <td>free</td>\n",
              "      <td>close</td>\n",
              "      <td>narrow</td>\n",
              "      <td>black</td>\n",
              "      <td>enlarging</td>\n",
              "      <td>equal</td>\n",
              "      <td>smooth</td>\n",
              "      <td>smooth</td>\n",
              "      <td>white</td>\n",
              "      <td>white</td>\n",
              "      <td>partial</td>\n",
              "      <td>white</td>\n",
              "      <td>one</td>\n",
              "      <td>pendant</td>\n",
              "      <td>black</td>\n",
              "      <td>scattered</td>\n",
              "      <td>urban</td>\n",
              "    </tr>\n",
              "    <tr>\n",
              "      <th>1</th>\n",
              "      <td>False</td>\n",
              "      <td>convex</td>\n",
              "      <td>smooth</td>\n",
              "      <td>yellow</td>\n",
              "      <td>bruises</td>\n",
              "      <td>almond</td>\n",
              "      <td>free</td>\n",
              "      <td>close</td>\n",
              "      <td>broad</td>\n",
              "      <td>black</td>\n",
              "      <td>enlarging</td>\n",
              "      <td>club</td>\n",
              "      <td>smooth</td>\n",
              "      <td>smooth</td>\n",
              "      <td>white</td>\n",
              "      <td>white</td>\n",
              "      <td>partial</td>\n",
              "      <td>white</td>\n",
              "      <td>one</td>\n",
              "      <td>pendant</td>\n",
              "      <td>brown</td>\n",
              "      <td>numerous</td>\n",
              "      <td>grasses</td>\n",
              "    </tr>\n",
              "    <tr>\n",
              "      <th>2</th>\n",
              "      <td>False</td>\n",
              "      <td>bell</td>\n",
              "      <td>smooth</td>\n",
              "      <td>white</td>\n",
              "      <td>bruises</td>\n",
              "      <td>anise</td>\n",
              "      <td>free</td>\n",
              "      <td>close</td>\n",
              "      <td>broad</td>\n",
              "      <td>brown</td>\n",
              "      <td>enlarging</td>\n",
              "      <td>club</td>\n",
              "      <td>smooth</td>\n",
              "      <td>smooth</td>\n",
              "      <td>white</td>\n",
              "      <td>white</td>\n",
              "      <td>partial</td>\n",
              "      <td>white</td>\n",
              "      <td>one</td>\n",
              "      <td>pendant</td>\n",
              "      <td>brown</td>\n",
              "      <td>numerous</td>\n",
              "      <td>meadows</td>\n",
              "    </tr>\n",
              "    <tr>\n",
              "      <th>3</th>\n",
              "      <td>True</td>\n",
              "      <td>convex</td>\n",
              "      <td>scaly</td>\n",
              "      <td>white</td>\n",
              "      <td>bruises</td>\n",
              "      <td>pungent</td>\n",
              "      <td>free</td>\n",
              "      <td>close</td>\n",
              "      <td>narrow</td>\n",
              "      <td>brown</td>\n",
              "      <td>enlarging</td>\n",
              "      <td>equal</td>\n",
              "      <td>smooth</td>\n",
              "      <td>smooth</td>\n",
              "      <td>white</td>\n",
              "      <td>white</td>\n",
              "      <td>partial</td>\n",
              "      <td>white</td>\n",
              "      <td>one</td>\n",
              "      <td>pendant</td>\n",
              "      <td>black</td>\n",
              "      <td>scattered</td>\n",
              "      <td>urban</td>\n",
              "    </tr>\n",
              "    <tr>\n",
              "      <th>4</th>\n",
              "      <td>False</td>\n",
              "      <td>convex</td>\n",
              "      <td>smooth</td>\n",
              "      <td>gray</td>\n",
              "      <td>no</td>\n",
              "      <td>none</td>\n",
              "      <td>free</td>\n",
              "      <td>crowded</td>\n",
              "      <td>broad</td>\n",
              "      <td>black</td>\n",
              "      <td>tapering</td>\n",
              "      <td>equal</td>\n",
              "      <td>smooth</td>\n",
              "      <td>smooth</td>\n",
              "      <td>white</td>\n",
              "      <td>white</td>\n",
              "      <td>partial</td>\n",
              "      <td>white</td>\n",
              "      <td>one</td>\n",
              "      <td>evanescent</td>\n",
              "      <td>brown</td>\n",
              "      <td>abundant</td>\n",
              "      <td>grasses</td>\n",
              "    </tr>\n",
              "  </tbody>\n",
              "</table>\n",
              "</div>"
            ],
            "text/plain": [
              "   poisonous cap_shape cap_surface  ... spore_print_color population  habitat\n",
              "0       True    convex      smooth  ...             black  scattered    urban\n",
              "1      False    convex      smooth  ...             brown   numerous  grasses\n",
              "2      False      bell      smooth  ...             brown   numerous  meadows\n",
              "3       True    convex       scaly  ...             black  scattered    urban\n",
              "4      False    convex      smooth  ...             brown   abundant  grasses\n",
              "\n",
              "[5 rows x 23 columns]"
            ]
          },
          "metadata": {
            "tags": []
          },
          "execution_count": 27
        }
      ]
    },
    {
      "cell_type": "markdown",
      "metadata": {
        "id": "i88i4BMcSRfZ",
        "colab_type": "text"
      },
      "source": [
        "## Make a profile report"
      ]
    },
    {
      "cell_type": "code",
      "metadata": {
        "id": "mEb5SWexOxbW",
        "colab_type": "code",
        "colab": {}
      },
      "source": [
        "# Get Pandas Profiling Report\n",
        "# pfr = pandas_profiling.ProfileReport(df)\n",
        "# pfr.to_file(\"df_report.html\") "
      ],
      "execution_count": 0,
      "outputs": []
    },
    {
      "cell_type": "markdown",
      "metadata": {
        "id": "-5UmbBf5FVla",
        "colab_type": "text"
      },
      "source": [
        "## Identify X and y\n",
        "\n",
        "I aim to predict whether a mushroom is poisonous."
      ]
    },
    {
      "cell_type": "code",
      "metadata": {
        "id": "d4IbydLdEqQy",
        "colab_type": "code",
        "outputId": "dc71300f-1769-4869-dc1a-4a54ec788cfd",
        "colab": {
          "base_uri": "https://localhost:8080/",
          "height": 427
        }
      },
      "source": [
        "# I choose to predict 'poisonous'.\n",
        "target = 'poisonous'\n",
        "\n",
        "features = list(set(df.columns) - set([target]))\n",
        "\n",
        "print(features)\n",
        "y = df[target]\n",
        "\n",
        "X = df[features]\n",
        "\n",
        "X"
      ],
      "execution_count": 28,
      "outputs": [
        {
          "output_type": "stream",
          "text": [
            "['bruises?', 'veil_type', 'gill_size', 'gill_spacing', 'cap_surface', 'habitat', 'gill_attachment', 'stalk_color_above_ring', 'stalk_color_below_ring', 'spore_print_color', 'odor', 'stalk_shape', 'stalk_surface_above_ring', 'stalk_surface_below_ring', 'ring_number', 'gill_color', 'ring_type', 'stalk_root', 'cap_shape', 'veil_color', 'population', 'cap_color']\n"
          ],
          "name": "stdout"
        },
        {
          "output_type": "execute_result",
          "data": {
            "text/html": [
              "<div>\n",
              "<style scoped>\n",
              "    .dataframe tbody tr th:only-of-type {\n",
              "        vertical-align: middle;\n",
              "    }\n",
              "\n",
              "    .dataframe tbody tr th {\n",
              "        vertical-align: top;\n",
              "    }\n",
              "\n",
              "    .dataframe thead th {\n",
              "        text-align: right;\n",
              "    }\n",
              "</style>\n",
              "<table border=\"1\" class=\"dataframe\">\n",
              "  <thead>\n",
              "    <tr style=\"text-align: right;\">\n",
              "      <th></th>\n",
              "      <th>bruises?</th>\n",
              "      <th>veil_type</th>\n",
              "      <th>gill_size</th>\n",
              "      <th>gill_spacing</th>\n",
              "      <th>cap_surface</th>\n",
              "      <th>habitat</th>\n",
              "      <th>gill_attachment</th>\n",
              "      <th>stalk_color_above_ring</th>\n",
              "      <th>stalk_color_below_ring</th>\n",
              "      <th>spore_print_color</th>\n",
              "      <th>odor</th>\n",
              "      <th>stalk_shape</th>\n",
              "      <th>stalk_surface_above_ring</th>\n",
              "      <th>stalk_surface_below_ring</th>\n",
              "      <th>ring_number</th>\n",
              "      <th>gill_color</th>\n",
              "      <th>ring_type</th>\n",
              "      <th>stalk_root</th>\n",
              "      <th>cap_shape</th>\n",
              "      <th>veil_color</th>\n",
              "      <th>population</th>\n",
              "      <th>cap_color</th>\n",
              "    </tr>\n",
              "  </thead>\n",
              "  <tbody>\n",
              "    <tr>\n",
              "      <th>0</th>\n",
              "      <td>bruises</td>\n",
              "      <td>partial</td>\n",
              "      <td>narrow</td>\n",
              "      <td>close</td>\n",
              "      <td>smooth</td>\n",
              "      <td>urban</td>\n",
              "      <td>free</td>\n",
              "      <td>white</td>\n",
              "      <td>white</td>\n",
              "      <td>black</td>\n",
              "      <td>pungent</td>\n",
              "      <td>enlarging</td>\n",
              "      <td>smooth</td>\n",
              "      <td>smooth</td>\n",
              "      <td>one</td>\n",
              "      <td>black</td>\n",
              "      <td>pendant</td>\n",
              "      <td>equal</td>\n",
              "      <td>convex</td>\n",
              "      <td>white</td>\n",
              "      <td>scattered</td>\n",
              "      <td>brown</td>\n",
              "    </tr>\n",
              "    <tr>\n",
              "      <th>1</th>\n",
              "      <td>bruises</td>\n",
              "      <td>partial</td>\n",
              "      <td>broad</td>\n",
              "      <td>close</td>\n",
              "      <td>smooth</td>\n",
              "      <td>grasses</td>\n",
              "      <td>free</td>\n",
              "      <td>white</td>\n",
              "      <td>white</td>\n",
              "      <td>brown</td>\n",
              "      <td>almond</td>\n",
              "      <td>enlarging</td>\n",
              "      <td>smooth</td>\n",
              "      <td>smooth</td>\n",
              "      <td>one</td>\n",
              "      <td>black</td>\n",
              "      <td>pendant</td>\n",
              "      <td>club</td>\n",
              "      <td>convex</td>\n",
              "      <td>white</td>\n",
              "      <td>numerous</td>\n",
              "      <td>yellow</td>\n",
              "    </tr>\n",
              "    <tr>\n",
              "      <th>2</th>\n",
              "      <td>bruises</td>\n",
              "      <td>partial</td>\n",
              "      <td>broad</td>\n",
              "      <td>close</td>\n",
              "      <td>smooth</td>\n",
              "      <td>meadows</td>\n",
              "      <td>free</td>\n",
              "      <td>white</td>\n",
              "      <td>white</td>\n",
              "      <td>brown</td>\n",
              "      <td>anise</td>\n",
              "      <td>enlarging</td>\n",
              "      <td>smooth</td>\n",
              "      <td>smooth</td>\n",
              "      <td>one</td>\n",
              "      <td>brown</td>\n",
              "      <td>pendant</td>\n",
              "      <td>club</td>\n",
              "      <td>bell</td>\n",
              "      <td>white</td>\n",
              "      <td>numerous</td>\n",
              "      <td>white</td>\n",
              "    </tr>\n",
              "    <tr>\n",
              "      <th>3</th>\n",
              "      <td>bruises</td>\n",
              "      <td>partial</td>\n",
              "      <td>narrow</td>\n",
              "      <td>close</td>\n",
              "      <td>scaly</td>\n",
              "      <td>urban</td>\n",
              "      <td>free</td>\n",
              "      <td>white</td>\n",
              "      <td>white</td>\n",
              "      <td>black</td>\n",
              "      <td>pungent</td>\n",
              "      <td>enlarging</td>\n",
              "      <td>smooth</td>\n",
              "      <td>smooth</td>\n",
              "      <td>one</td>\n",
              "      <td>brown</td>\n",
              "      <td>pendant</td>\n",
              "      <td>equal</td>\n",
              "      <td>convex</td>\n",
              "      <td>white</td>\n",
              "      <td>scattered</td>\n",
              "      <td>white</td>\n",
              "    </tr>\n",
              "    <tr>\n",
              "      <th>4</th>\n",
              "      <td>no</td>\n",
              "      <td>partial</td>\n",
              "      <td>broad</td>\n",
              "      <td>crowded</td>\n",
              "      <td>smooth</td>\n",
              "      <td>grasses</td>\n",
              "      <td>free</td>\n",
              "      <td>white</td>\n",
              "      <td>white</td>\n",
              "      <td>brown</td>\n",
              "      <td>none</td>\n",
              "      <td>tapering</td>\n",
              "      <td>smooth</td>\n",
              "      <td>smooth</td>\n",
              "      <td>one</td>\n",
              "      <td>black</td>\n",
              "      <td>evanescent</td>\n",
              "      <td>equal</td>\n",
              "      <td>convex</td>\n",
              "      <td>white</td>\n",
              "      <td>abundant</td>\n",
              "      <td>gray</td>\n",
              "    </tr>\n",
              "    <tr>\n",
              "      <th>...</th>\n",
              "      <td>...</td>\n",
              "      <td>...</td>\n",
              "      <td>...</td>\n",
              "      <td>...</td>\n",
              "      <td>...</td>\n",
              "      <td>...</td>\n",
              "      <td>...</td>\n",
              "      <td>...</td>\n",
              "      <td>...</td>\n",
              "      <td>...</td>\n",
              "      <td>...</td>\n",
              "      <td>...</td>\n",
              "      <td>...</td>\n",
              "      <td>...</td>\n",
              "      <td>...</td>\n",
              "      <td>...</td>\n",
              "      <td>...</td>\n",
              "      <td>...</td>\n",
              "      <td>...</td>\n",
              "      <td>...</td>\n",
              "      <td>...</td>\n",
              "      <td>...</td>\n",
              "    </tr>\n",
              "    <tr>\n",
              "      <th>8119</th>\n",
              "      <td>no</td>\n",
              "      <td>partial</td>\n",
              "      <td>broad</td>\n",
              "      <td>close</td>\n",
              "      <td>smooth</td>\n",
              "      <td>leaves</td>\n",
              "      <td>attached</td>\n",
              "      <td>orange</td>\n",
              "      <td>orange</td>\n",
              "      <td>buff</td>\n",
              "      <td>none</td>\n",
              "      <td>enlarging</td>\n",
              "      <td>smooth</td>\n",
              "      <td>smooth</td>\n",
              "      <td>one</td>\n",
              "      <td>yellow</td>\n",
              "      <td>pendant</td>\n",
              "      <td>missing</td>\n",
              "      <td>WYknobbed</td>\n",
              "      <td>orange</td>\n",
              "      <td>clustered</td>\n",
              "      <td>brown</td>\n",
              "    </tr>\n",
              "    <tr>\n",
              "      <th>8120</th>\n",
              "      <td>no</td>\n",
              "      <td>partial</td>\n",
              "      <td>broad</td>\n",
              "      <td>close</td>\n",
              "      <td>smooth</td>\n",
              "      <td>leaves</td>\n",
              "      <td>attached</td>\n",
              "      <td>orange</td>\n",
              "      <td>orange</td>\n",
              "      <td>buff</td>\n",
              "      <td>none</td>\n",
              "      <td>enlarging</td>\n",
              "      <td>smooth</td>\n",
              "      <td>smooth</td>\n",
              "      <td>one</td>\n",
              "      <td>yellow</td>\n",
              "      <td>pendant</td>\n",
              "      <td>missing</td>\n",
              "      <td>convex</td>\n",
              "      <td>brown</td>\n",
              "      <td>several</td>\n",
              "      <td>brown</td>\n",
              "    </tr>\n",
              "    <tr>\n",
              "      <th>8121</th>\n",
              "      <td>no</td>\n",
              "      <td>partial</td>\n",
              "      <td>broad</td>\n",
              "      <td>close</td>\n",
              "      <td>smooth</td>\n",
              "      <td>leaves</td>\n",
              "      <td>attached</td>\n",
              "      <td>orange</td>\n",
              "      <td>orange</td>\n",
              "      <td>buff</td>\n",
              "      <td>none</td>\n",
              "      <td>enlarging</td>\n",
              "      <td>smooth</td>\n",
              "      <td>smooth</td>\n",
              "      <td>one</td>\n",
              "      <td>brown</td>\n",
              "      <td>pendant</td>\n",
              "      <td>missing</td>\n",
              "      <td>flat</td>\n",
              "      <td>orange</td>\n",
              "      <td>clustered</td>\n",
              "      <td>brown</td>\n",
              "    </tr>\n",
              "    <tr>\n",
              "      <th>8122</th>\n",
              "      <td>no</td>\n",
              "      <td>partial</td>\n",
              "      <td>narrow</td>\n",
              "      <td>close</td>\n",
              "      <td>scaly</td>\n",
              "      <td>leaves</td>\n",
              "      <td>free</td>\n",
              "      <td>white</td>\n",
              "      <td>white</td>\n",
              "      <td>white</td>\n",
              "      <td>fishy</td>\n",
              "      <td>tapering</td>\n",
              "      <td>smooth</td>\n",
              "      <td>silky</td>\n",
              "      <td>one</td>\n",
              "      <td>buff</td>\n",
              "      <td>evanescent</td>\n",
              "      <td>missing</td>\n",
              "      <td>WYknobbed</td>\n",
              "      <td>white</td>\n",
              "      <td>several</td>\n",
              "      <td>brown</td>\n",
              "    </tr>\n",
              "    <tr>\n",
              "      <th>8123</th>\n",
              "      <td>no</td>\n",
              "      <td>partial</td>\n",
              "      <td>broad</td>\n",
              "      <td>close</td>\n",
              "      <td>smooth</td>\n",
              "      <td>leaves</td>\n",
              "      <td>attached</td>\n",
              "      <td>orange</td>\n",
              "      <td>orange</td>\n",
              "      <td>orange</td>\n",
              "      <td>none</td>\n",
              "      <td>enlarging</td>\n",
              "      <td>smooth</td>\n",
              "      <td>smooth</td>\n",
              "      <td>one</td>\n",
              "      <td>yellow</td>\n",
              "      <td>pendant</td>\n",
              "      <td>missing</td>\n",
              "      <td>convex</td>\n",
              "      <td>orange</td>\n",
              "      <td>clustered</td>\n",
              "      <td>brown</td>\n",
              "    </tr>\n",
              "  </tbody>\n",
              "</table>\n",
              "<p>8124 rows × 22 columns</p>\n",
              "</div>"
            ],
            "text/plain": [
              "     bruises? veil_type gill_size  ... veil_color population cap_color\n",
              "0     bruises   partial    narrow  ...      white  scattered     brown\n",
              "1     bruises   partial     broad  ...      white   numerous    yellow\n",
              "2     bruises   partial     broad  ...      white   numerous     white\n",
              "3     bruises   partial    narrow  ...      white  scattered     white\n",
              "4          no   partial     broad  ...      white   abundant      gray\n",
              "...       ...       ...       ...  ...        ...        ...       ...\n",
              "8119       no   partial     broad  ...     orange  clustered     brown\n",
              "8120       no   partial     broad  ...      brown    several     brown\n",
              "8121       no   partial     broad  ...     orange  clustered     brown\n",
              "8122       no   partial    narrow  ...      white    several     brown\n",
              "8123       no   partial     broad  ...     orange  clustered     brown\n",
              "\n",
              "[8124 rows x 22 columns]"
            ]
          },
          "metadata": {
            "tags": []
          },
          "execution_count": 28
        }
      ]
    },
    {
      "cell_type": "markdown",
      "metadata": {
        "id": "oVOWOxedTCBj",
        "colab_type": "text"
      },
      "source": [
        "## Find majority class frequency\n"
      ]
    },
    {
      "cell_type": "code",
      "metadata": {
        "id": "8y7jedgkc-_-",
        "colab_type": "code",
        "colab": {
          "base_uri": "https://localhost:8080/",
          "height": 33
        },
        "outputId": "687f795c-1d01-4e44-fb84-d95f1d164430"
      },
      "source": [
        "y.value_counts(normalize=True).max()"
      ],
      "execution_count": 29,
      "outputs": [
        {
          "output_type": "execute_result",
          "data": {
            "text/plain": [
              "0.517971442639094"
            ]
          },
          "metadata": {
            "tags": []
          },
          "execution_count": 29
        }
      ]
    },
    {
      "cell_type": "markdown",
      "metadata": {
        "id": "P_R8prqBdKQi",
        "colab_type": "text"
      },
      "source": [
        "The majority class frequency is >= 50% and < 70%.\n",
        "\n",
        "I'll use accuracy as an initial metric.\n",
        "\n",
        "Given the importance of **avoiding** poison, I may try to use **precision** as a metric later.\n",
        "\n",
        "There is no time-based feature.\n",
        "\n",
        "I'll use a random split."
      ]
    },
    {
      "cell_type": "markdown",
      "metadata": {
        "id": "NyoBoxOgK0Dk",
        "colab_type": "text"
      },
      "source": [
        "## Split into train, val, set"
      ]
    },
    {
      "cell_type": "code",
      "metadata": {
        "id": "BKfbVdjCK5_f",
        "colab_type": "code",
        "outputId": "c69e4f16-1c69-4bc3-f220-56b850d869cb",
        "colab": {
          "base_uri": "https://localhost:8080/",
          "height": 66
        }
      },
      "source": [
        "from sklearn.model_selection import train_test_split\n",
        "train, test = train_test_split(df, test_size=0.2, random_state=1984)\n",
        "train, val = train_test_split(train, test_size=0.2, random_state=1984)\n",
        "\n",
        "print(train.shape)\n",
        "print(val.shape)\n",
        "test.shape"
      ],
      "execution_count": 30,
      "outputs": [
        {
          "output_type": "stream",
          "text": [
            "(5199, 23)\n",
            "(1300, 23)\n"
          ],
          "name": "stdout"
        },
        {
          "output_type": "execute_result",
          "data": {
            "text/plain": [
              "(1625, 23)"
            ]
          },
          "metadata": {
            "tags": []
          },
          "execution_count": 30
        }
      ]
    },
    {
      "cell_type": "markdown",
      "metadata": {
        "id": "d5jgm3sxd8Gv",
        "colab_type": "text"
      },
      "source": [
        "## Split train, val, test into X and y"
      ]
    },
    {
      "cell_type": "code",
      "metadata": {
        "id": "OtzrweKzE4nI",
        "colab_type": "code",
        "colab": {}
      },
      "source": [
        "# target - 'poisonous' # defined above\n",
        "# features # defined above\n",
        "\n",
        "X_train = train[features]\n",
        "y_train = train[target]\n",
        "\n",
        "X_test = test[features]\n",
        "y_test = test[target]\n",
        "\n",
        "X_val = val[features]\n",
        "y_val = val[target]"
      ],
      "execution_count": 0,
      "outputs": []
    },
    {
      "cell_type": "markdown",
      "metadata": {
        "id": "gBF-jye4fTag",
        "colab_type": "text"
      },
      "source": [
        "## Define a pipeline\n"
      ]
    },
    {
      "cell_type": "code",
      "metadata": {
        "id": "6AS3DSBhfKxN",
        "colab_type": "code",
        "colab": {}
      },
      "source": [
        "import category_encoders as ce\n",
        "from sklearn.pipeline import make_pipeline\n",
        "from sklearn.tree import DecisionTreeClassifier\n",
        "\n",
        "pipeline = make_pipeline(\n",
        "    ce.OrdinalEncoder(),\n",
        "    DecisionTreeClassifier(max_depth=3)\n",
        ")"
      ],
      "execution_count": 0,
      "outputs": []
    },
    {
      "cell_type": "markdown",
      "metadata": {
        "id": "_P39pWYtfe35",
        "colab_type": "text"
      },
      "source": [
        "## Fit the model built by the pipeline."
      ]
    },
    {
      "cell_type": "code",
      "metadata": {
        "id": "ATFsHDTben7C",
        "colab_type": "code",
        "colab": {
          "base_uri": "https://localhost:8080/",
          "height": 407
        },
        "outputId": "9b899068-737a-43af-ed8c-b96c593138cf"
      },
      "source": [
        "pipeline.fit(X_train, y_train)"
      ],
      "execution_count": 33,
      "outputs": [
        {
          "output_type": "execute_result",
          "data": {
            "text/plain": [
              "Pipeline(memory=None,\n",
              "         steps=[('ordinalencoder',\n",
              "                 OrdinalEncoder(cols=['bruises?', 'veil_type', 'gill_size',\n",
              "                                      'gill_spacing', 'cap_surface', 'habitat',\n",
              "                                      'gill_attachment',\n",
              "                                      'stalk_color_above_ring',\n",
              "                                      'stalk_color_below_ring',\n",
              "                                      'spore_print_color', 'odor',\n",
              "                                      'stalk_shape', 'stalk_surface_above_ring',\n",
              "                                      'stalk_surface_below_ring', 'ring_number',\n",
              "                                      'gill_color', 'ring_type', 'stalk_...\n",
              "dtype: int64}],\n",
              "                                return_df=True, verbose=0)),\n",
              "                ('decisiontreeclassifier',\n",
              "                 DecisionTreeClassifier(class_weight=None, criterion='gini',\n",
              "                                        max_depth=3, max_features=None,\n",
              "                                        max_leaf_nodes=None,\n",
              "                                        min_impurity_decrease=0.0,\n",
              "                                        min_impurity_split=None,\n",
              "                                        min_samples_leaf=1, min_samples_split=2,\n",
              "                                        min_weight_fraction_leaf=0.0,\n",
              "                                        presort=False, random_state=None,\n",
              "                                        splitter='best'))],\n",
              "         verbose=False)"
            ]
          },
          "metadata": {
            "tags": []
          },
          "execution_count": 33
        }
      ]
    },
    {
      "cell_type": "markdown",
      "metadata": {
        "id": "cPanafISfprf",
        "colab_type": "text"
      },
      "source": [
        "FInd the validation accuracy."
      ]
    },
    {
      "cell_type": "code",
      "metadata": {
        "id": "gyytxQqffrBt",
        "colab_type": "code",
        "colab": {
          "base_uri": "https://localhost:8080/",
          "height": 33
        },
        "outputId": "773673bc-2f5f-403c-ab27-0a511af75288"
      },
      "source": [
        "print('Validation Accuracy: ', pipeline.score(X_val, y_val))"
      ],
      "execution_count": 34,
      "outputs": [
        {
          "output_type": "stream",
          "text": [
            "Validation Accuracy:  0.9907692307692307\n"
          ],
          "name": "stdout"
        }
      ]
    },
    {
      "cell_type": "markdown",
      "metadata": {
        "id": "-rWUTG8Cf7YZ",
        "colab_type": "text"
      },
      "source": [
        "## Vizualize the tree"
      ]
    },
    {
      "cell_type": "code",
      "metadata": {
        "id": "BaRNNpvmf4si",
        "colab_type": "code",
        "colab": {
          "base_uri": "https://localhost:8080/",
          "height": 517
        },
        "outputId": "acdb1654-38db-4a6d-c5a9-5f59d5ce24aa"
      },
      "source": [
        "# Vizualize Decision Tree\n",
        "import graphviz\n",
        "from sklearn.tree import export_graphviz\n",
        "\n",
        "tree = pipeline.named_steps['decisiontreeclassifier']\n",
        "\n",
        "dot_data = export_graphviz(\n",
        "    tree,\n",
        "    out_file = None,\n",
        "    feature_names = X_train.columns,\n",
        "    class_names = y.unique().astype(str),\n",
        "    filled = True,\n",
        "    impurity=False,\n",
        "    proportion=True,\n",
        ")\n",
        "\n",
        "graphviz.Source(dot_data)"
      ],
      "execution_count": 35,
      "outputs": [
        {
          "output_type": "execute_result",
          "data": {
            "text/plain": [
              "<graphviz.files.Source at 0x7f77668d3390>"
            ],
            "image/svg+xml": "<?xml version=\"1.0\" encoding=\"UTF-8\" standalone=\"no\"?>\n<!DOCTYPE svg PUBLIC \"-//W3C//DTD SVG 1.1//EN\"\n \"http://www.w3.org/Graphics/SVG/1.1/DTD/svg11.dtd\">\n<!-- Generated by graphviz version 2.40.1 (20161225.0304)\n -->\n<!-- Title: Tree Pages: 1 -->\n<svg width=\"911pt\" height=\"373pt\"\n viewBox=\"0.00 0.00 911.00 373.00\" xmlns=\"http://www.w3.org/2000/svg\" xmlns:xlink=\"http://www.w3.org/1999/xlink\">\n<g id=\"graph0\" class=\"graph\" transform=\"scale(1 1) rotate(0) translate(4 369)\">\n<title>Tree</title>\n<polygon fill=\"#ffffff\" stroke=\"transparent\" points=\"-4,4 -4,-369 907,-369 907,4 -4,4\"/>\n<!-- 0 -->\n<g id=\"node1\" class=\"node\">\n<title>0</title>\n<polygon fill=\"#fef9f6\" stroke=\"#000000\" points=\"539,-365 392,-365 392,-297 539,-297 539,-365\"/>\n<text text-anchor=\"middle\" x=\"465.5\" y=\"-349.8\" font-family=\"Times,serif\" font-size=\"14.00\" fill=\"#000000\">odor &lt;= 1.5</text>\n<text text-anchor=\"middle\" x=\"465.5\" y=\"-334.8\" font-family=\"Times,serif\" font-size=\"14.00\" fill=\"#000000\">samples = 100.0%</text>\n<text text-anchor=\"middle\" x=\"465.5\" y=\"-319.8\" font-family=\"Times,serif\" font-size=\"14.00\" fill=\"#000000\">value = [0.512, 0.488]</text>\n<text text-anchor=\"middle\" x=\"465.5\" y=\"-304.8\" font-family=\"Times,serif\" font-size=\"14.00\" fill=\"#000000\">class = True</text>\n</g>\n<!-- 1 -->\n<g id=\"node2\" class=\"node\">\n<title>1</title>\n<polygon fill=\"#e68540\" stroke=\"#000000\" points=\"460,-261 299,-261 299,-193 460,-193 460,-261\"/>\n<text text-anchor=\"middle\" x=\"379.5\" y=\"-245.8\" font-family=\"Times,serif\" font-size=\"14.00\" fill=\"#000000\">spore_print_color &lt;= 8.5</text>\n<text text-anchor=\"middle\" x=\"379.5\" y=\"-230.8\" font-family=\"Times,serif\" font-size=\"14.00\" fill=\"#000000\">samples = 43.1%</text>\n<text text-anchor=\"middle\" x=\"379.5\" y=\"-215.8\" font-family=\"Times,serif\" font-size=\"14.00\" fill=\"#000000\">value = [0.966, 0.034]</text>\n<text text-anchor=\"middle\" x=\"379.5\" y=\"-200.8\" font-family=\"Times,serif\" font-size=\"14.00\" fill=\"#000000\">class = True</text>\n</g>\n<!-- 0&#45;&gt;1 -->\n<g id=\"edge1\" class=\"edge\">\n<title>0&#45;&gt;1</title>\n<path fill=\"none\" stroke=\"#000000\" d=\"M437.3404,-296.9465C429.9158,-287.968 421.8185,-278.1758 414.0972,-268.8385\"/>\n<polygon fill=\"#000000\" stroke=\"#000000\" points=\"416.7928,-266.606 407.7229,-261.13 411.3983,-271.0669 416.7928,-266.606\"/>\n<text text-anchor=\"middle\" x=\"405.365\" y=\"-282.3186\" font-family=\"Times,serif\" font-size=\"14.00\" fill=\"#000000\">True</text>\n</g>\n<!-- 6 -->\n<g id=\"node7\" class=\"node\">\n<title>6</title>\n<polygon fill=\"#61b1ea\" stroke=\"#000000\" points=\"625,-261 478,-261 478,-193 625,-193 625,-261\"/>\n<text text-anchor=\"middle\" x=\"551.5\" y=\"-245.8\" font-family=\"Times,serif\" font-size=\"14.00\" fill=\"#000000\">stalk_root &lt;= 2.5</text>\n<text text-anchor=\"middle\" x=\"551.5\" y=\"-230.8\" font-family=\"Times,serif\" font-size=\"14.00\" fill=\"#000000\">samples = 56.9%</text>\n<text text-anchor=\"middle\" x=\"551.5\" y=\"-215.8\" font-family=\"Times,serif\" font-size=\"14.00\" fill=\"#000000\">value = [0.167, 0.833]</text>\n<text text-anchor=\"middle\" x=\"551.5\" y=\"-200.8\" font-family=\"Times,serif\" font-size=\"14.00\" fill=\"#000000\">class = False</text>\n</g>\n<!-- 0&#45;&gt;6 -->\n<g id=\"edge6\" class=\"edge\">\n<title>0&#45;&gt;6</title>\n<path fill=\"none\" stroke=\"#000000\" d=\"M493.6596,-296.9465C501.0842,-287.968 509.1815,-278.1758 516.9028,-268.8385\"/>\n<polygon fill=\"#000000\" stroke=\"#000000\" points=\"519.6017,-271.0669 523.2771,-261.13 514.2072,-266.606 519.6017,-271.0669\"/>\n<text text-anchor=\"middle\" x=\"525.635\" y=\"-282.3186\" font-family=\"Times,serif\" font-size=\"14.00\" fill=\"#000000\">False</text>\n</g>\n<!-- 2 -->\n<g id=\"node3\" class=\"node\">\n<title>2</title>\n<polygon fill=\"#e5833c\" stroke=\"#000000\" points=\"306.5,-157 110.5,-157 110.5,-89 306.5,-89 306.5,-157\"/>\n<text text-anchor=\"middle\" x=\"208.5\" y=\"-141.8\" font-family=\"Times,serif\" font-size=\"14.00\" fill=\"#000000\">stalk_color_below_ring &lt;= 7.5</text>\n<text text-anchor=\"middle\" x=\"208.5\" y=\"-126.8\" font-family=\"Times,serif\" font-size=\"14.00\" fill=\"#000000\">samples = 42.3%</text>\n<text text-anchor=\"middle\" x=\"208.5\" y=\"-111.8\" font-family=\"Times,serif\" font-size=\"14.00\" fill=\"#000000\">value = [0.984, 0.016]</text>\n<text text-anchor=\"middle\" x=\"208.5\" y=\"-96.8\" font-family=\"Times,serif\" font-size=\"14.00\" fill=\"#000000\">class = True</text>\n</g>\n<!-- 1&#45;&gt;2 -->\n<g id=\"edge2\" class=\"edge\">\n<title>1&#45;&gt;2</title>\n<path fill=\"none\" stroke=\"#000000\" d=\"M323.5082,-192.9465C307.4168,-183.1599 289.7359,-172.4066 273.1666,-162.3294\"/>\n<polygon fill=\"#000000\" stroke=\"#000000\" points=\"274.9802,-159.336 264.6176,-157.13 271.3428,-165.3167 274.9802,-159.336\"/>\n</g>\n<!-- 5 -->\n<g id=\"node6\" class=\"node\">\n<title>5</title>\n<polygon fill=\"#399de5\" stroke=\"#000000\" points=\"442,-149.5 325,-149.5 325,-96.5 442,-96.5 442,-149.5\"/>\n<text text-anchor=\"middle\" x=\"383.5\" y=\"-134.3\" font-family=\"Times,serif\" font-size=\"14.00\" fill=\"#000000\">samples = 0.8%</text>\n<text text-anchor=\"middle\" x=\"383.5\" y=\"-119.3\" font-family=\"Times,serif\" font-size=\"14.00\" fill=\"#000000\">value = [0.0, 1.0]</text>\n<text text-anchor=\"middle\" x=\"383.5\" y=\"-104.3\" font-family=\"Times,serif\" font-size=\"14.00\" fill=\"#000000\">class = False</text>\n</g>\n<!-- 1&#45;&gt;5 -->\n<g id=\"edge5\" class=\"edge\">\n<title>1&#45;&gt;5</title>\n<path fill=\"none\" stroke=\"#000000\" d=\"M380.8097,-192.9465C381.2207,-182.2621 381.6759,-170.4254 382.0933,-159.5742\"/>\n<polygon fill=\"#000000\" stroke=\"#000000\" points=\"385.5921,-159.6693 382.4791,-149.5422 378.5973,-159.4002 385.5921,-159.6693\"/>\n</g>\n<!-- 3 -->\n<g id=\"node4\" class=\"node\">\n<title>3</title>\n<polygon fill=\"#e5823b\" stroke=\"#000000\" points=\"147,-53 0,-53 0,0 147,0 147,-53\"/>\n<text text-anchor=\"middle\" x=\"73.5\" y=\"-37.8\" font-family=\"Times,serif\" font-size=\"14.00\" fill=\"#000000\">samples = 42.0%</text>\n<text text-anchor=\"middle\" x=\"73.5\" y=\"-22.8\" font-family=\"Times,serif\" font-size=\"14.00\" fill=\"#000000\">value = [0.992, 0.008]</text>\n<text text-anchor=\"middle\" x=\"73.5\" y=\"-7.8\" font-family=\"Times,serif\" font-size=\"14.00\" fill=\"#000000\">class = True</text>\n</g>\n<!-- 2&#45;&gt;3 -->\n<g id=\"edge3\" class=\"edge\">\n<title>2&#45;&gt;3</title>\n<path fill=\"none\" stroke=\"#000000\" d=\"M160.9041,-88.9777C147.3252,-79.2713 132.5661,-68.7213 119.1088,-59.1018\"/>\n<polygon fill=\"#000000\" stroke=\"#000000\" points=\"121.0908,-56.2164 110.9202,-53.2485 117.0201,-61.9111 121.0908,-56.2164\"/>\n</g>\n<!-- 4 -->\n<g id=\"node5\" class=\"node\">\n<title>4</title>\n<polygon fill=\"#399de5\" stroke=\"#000000\" points=\"282,-53 165,-53 165,0 282,0 282,-53\"/>\n<text text-anchor=\"middle\" x=\"223.5\" y=\"-37.8\" font-family=\"Times,serif\" font-size=\"14.00\" fill=\"#000000\">samples = 0.3%</text>\n<text text-anchor=\"middle\" x=\"223.5\" y=\"-22.8\" font-family=\"Times,serif\" font-size=\"14.00\" fill=\"#000000\">value = [0.0, 1.0]</text>\n<text text-anchor=\"middle\" x=\"223.5\" y=\"-7.8\" font-family=\"Times,serif\" font-size=\"14.00\" fill=\"#000000\">class = False</text>\n</g>\n<!-- 2&#45;&gt;4 -->\n<g id=\"edge4\" class=\"edge\">\n<title>2&#45;&gt;4</title>\n<path fill=\"none\" stroke=\"#000000\" d=\"M213.7884,-88.9777C215.0837,-80.6449 216.4756,-71.6903 217.7897,-63.2364\"/>\n<polygon fill=\"#000000\" stroke=\"#000000\" points=\"221.2646,-63.6674 219.3422,-53.2485 214.3477,-62.5922 221.2646,-63.6674\"/>\n</g>\n<!-- 7 -->\n<g id=\"node8\" class=\"node\">\n<title>7</title>\n<polygon fill=\"#3ea0e6\" stroke=\"#000000\" points=\"628,-157 467,-157 467,-89 628,-89 628,-157\"/>\n<text text-anchor=\"middle\" x=\"547.5\" y=\"-141.8\" font-family=\"Times,serif\" font-size=\"14.00\" fill=\"#000000\">spore_print_color &lt;= 5.0</text>\n<text text-anchor=\"middle\" x=\"547.5\" y=\"-126.8\" font-family=\"Times,serif\" font-size=\"14.00\" fill=\"#000000\">samples = 44.8%</text>\n<text text-anchor=\"middle\" x=\"547.5\" y=\"-111.8\" font-family=\"Times,serif\" font-size=\"14.00\" fill=\"#000000\">value = [0.025, 0.975]</text>\n<text text-anchor=\"middle\" x=\"547.5\" y=\"-96.8\" font-family=\"Times,serif\" font-size=\"14.00\" fill=\"#000000\">class = False</text>\n</g>\n<!-- 6&#45;&gt;7 -->\n<g id=\"edge7\" class=\"edge\">\n<title>6&#45;&gt;7</title>\n<path fill=\"none\" stroke=\"#000000\" d=\"M550.1903,-192.9465C549.876,-184.776 549.5358,-175.9318 549.2065,-167.3697\"/>\n<polygon fill=\"#000000\" stroke=\"#000000\" points=\"552.6945,-166.9881 548.8127,-157.13 545.6997,-167.2572 552.6945,-166.9881\"/>\n</g>\n<!-- 10 -->\n<g id=\"node11\" class=\"node\">\n<title>10</title>\n<polygon fill=\"#f0b890\" stroke=\"#000000\" points=\"793,-157 646,-157 646,-89 793,-89 793,-157\"/>\n<text text-anchor=\"middle\" x=\"719.5\" y=\"-141.8\" font-family=\"Times,serif\" font-size=\"14.00\" fill=\"#000000\">odor &lt;= 7.0</text>\n<text text-anchor=\"middle\" x=\"719.5\" y=\"-126.8\" font-family=\"Times,serif\" font-size=\"14.00\" fill=\"#000000\">samples = 12.1%</text>\n<text text-anchor=\"middle\" x=\"719.5\" y=\"-111.8\" font-family=\"Times,serif\" font-size=\"14.00\" fill=\"#000000\">value = [0.694, 0.306]</text>\n<text text-anchor=\"middle\" x=\"719.5\" y=\"-96.8\" font-family=\"Times,serif\" font-size=\"14.00\" fill=\"#000000\">class = True</text>\n</g>\n<!-- 6&#45;&gt;10 -->\n<g id=\"edge10\" class=\"edge\">\n<title>6&#45;&gt;10</title>\n<path fill=\"none\" stroke=\"#000000\" d=\"M606.5095,-192.9465C622.1736,-183.2497 639.3707,-172.6039 655.5196,-162.6069\"/>\n<polygon fill=\"#000000\" stroke=\"#000000\" points=\"657.7065,-165.3695 664.3669,-157.13 654.022,-159.4177 657.7065,-165.3695\"/>\n</g>\n<!-- 8 -->\n<g id=\"node9\" class=\"node\">\n<title>8</title>\n<polygon fill=\"#3b9ee5\" stroke=\"#000000\" points=\"480.5,-53 334.5,-53 334.5,0 480.5,0 480.5,-53\"/>\n<text text-anchor=\"middle\" x=\"407.5\" y=\"-37.8\" font-family=\"Times,serif\" font-size=\"14.00\" fill=\"#000000\">samples = 44.1%</text>\n<text text-anchor=\"middle\" x=\"407.5\" y=\"-22.8\" font-family=\"Times,serif\" font-size=\"14.00\" fill=\"#000000\">value = [0.011, 0.989]</text>\n<text text-anchor=\"middle\" x=\"407.5\" y=\"-7.8\" font-family=\"Times,serif\" font-size=\"14.00\" fill=\"#000000\">class = False</text>\n</g>\n<!-- 7&#45;&gt;8 -->\n<g id=\"edge8\" class=\"edge\">\n<title>7&#45;&gt;8</title>\n<path fill=\"none\" stroke=\"#000000\" d=\"M498.1412,-88.9777C484.0594,-79.2713 468.7537,-68.7213 454.798,-59.1018\"/>\n<polygon fill=\"#000000\" stroke=\"#000000\" points=\"456.526,-56.042 446.3061,-53.2485 452.5533,-61.8055 456.526,-56.042\"/>\n</g>\n<!-- 9 -->\n<g id=\"node10\" class=\"node\">\n<title>9</title>\n<polygon fill=\"#e58139\" stroke=\"#000000\" points=\"616,-53 499,-53 499,0 616,0 616,-53\"/>\n<text text-anchor=\"middle\" x=\"557.5\" y=\"-37.8\" font-family=\"Times,serif\" font-size=\"14.00\" fill=\"#000000\">samples = 0.7%</text>\n<text text-anchor=\"middle\" x=\"557.5\" y=\"-22.8\" font-family=\"Times,serif\" font-size=\"14.00\" fill=\"#000000\">value = [1.0, 0.0]</text>\n<text text-anchor=\"middle\" x=\"557.5\" y=\"-7.8\" font-family=\"Times,serif\" font-size=\"14.00\" fill=\"#000000\">class = True</text>\n</g>\n<!-- 7&#45;&gt;9 -->\n<g id=\"edge9\" class=\"edge\">\n<title>7&#45;&gt;9</title>\n<path fill=\"none\" stroke=\"#000000\" d=\"M551.0256,-88.9777C551.8891,-80.6449 552.8171,-71.6903 553.6931,-63.2364\"/>\n<polygon fill=\"#000000\" stroke=\"#000000\" points=\"557.1787,-63.556 554.7281,-53.2485 550.2159,-62.8344 557.1787,-63.556\"/>\n</g>\n<!-- 11 -->\n<g id=\"node12\" class=\"node\">\n<title>11</title>\n<polygon fill=\"#e58139\" stroke=\"#000000\" points=\"768,-53 651,-53 651,0 768,0 768,-53\"/>\n<text text-anchor=\"middle\" x=\"709.5\" y=\"-37.8\" font-family=\"Times,serif\" font-size=\"14.00\" fill=\"#000000\">samples = 8.4%</text>\n<text text-anchor=\"middle\" x=\"709.5\" y=\"-22.8\" font-family=\"Times,serif\" font-size=\"14.00\" fill=\"#000000\">value = [1.0, 0.0]</text>\n<text text-anchor=\"middle\" x=\"709.5\" y=\"-7.8\" font-family=\"Times,serif\" font-size=\"14.00\" fill=\"#000000\">class = True</text>\n</g>\n<!-- 10&#45;&gt;11 -->\n<g id=\"edge11\" class=\"edge\">\n<title>10&#45;&gt;11</title>\n<path fill=\"none\" stroke=\"#000000\" d=\"M715.9744,-88.9777C715.1109,-80.6449 714.1829,-71.6903 713.3069,-63.2364\"/>\n<polygon fill=\"#000000\" stroke=\"#000000\" points=\"716.7841,-62.8344 712.2719,-53.2485 709.8213,-63.556 716.7841,-62.8344\"/>\n</g>\n<!-- 12 -->\n<g id=\"node13\" class=\"node\">\n<title>12</title>\n<polygon fill=\"#399de5\" stroke=\"#000000\" points=\"903,-53 786,-53 786,0 903,0 903,-53\"/>\n<text text-anchor=\"middle\" x=\"844.5\" y=\"-37.8\" font-family=\"Times,serif\" font-size=\"14.00\" fill=\"#000000\">samples = 3.7%</text>\n<text text-anchor=\"middle\" x=\"844.5\" y=\"-22.8\" font-family=\"Times,serif\" font-size=\"14.00\" fill=\"#000000\">value = [0.0, 1.0]</text>\n<text text-anchor=\"middle\" x=\"844.5\" y=\"-7.8\" font-family=\"Times,serif\" font-size=\"14.00\" fill=\"#000000\">class = False</text>\n</g>\n<!-- 10&#45;&gt;12 -->\n<g id=\"edge12\" class=\"edge\">\n<title>10&#45;&gt;12</title>\n<path fill=\"none\" stroke=\"#000000\" d=\"M763.5703,-88.9777C776.0248,-79.3629 789.5515,-68.9203 801.9167,-59.3743\"/>\n<polygon fill=\"#000000\" stroke=\"#000000\" points=\"804.0749,-62.1299 809.8517,-53.2485 799.7972,-56.5889 804.0749,-62.1299\"/>\n</g>\n</g>\n</svg>\n"
          },
          "metadata": {
            "tags": []
          },
          "execution_count": 35
        }
      ]
    },
    {
      "cell_type": "markdown",
      "metadata": {
        "id": "XkWThOhqgFmA",
        "colab_type": "text"
      },
      "source": [
        "## ROC Curve"
      ]
    },
    {
      "cell_type": "code",
      "metadata": {
        "id": "y8-RFQOMgHfA",
        "colab_type": "code",
        "colab": {
          "base_uri": "https://localhost:8080/",
          "height": 191
        },
        "outputId": "ccf2ad88-b8c4-4903-ee6a-eb60c3fd701b"
      },
      "source": [
        "y_val\n",
        "from sklearn.metrics import roc_curve\n",
        "y_pred_proba = pipeline.predict_proba(X_val)[:,-1]\n",
        "fpr, tpr, thresholds = roc_curve(y_val, y_pred_proba)\n",
        "pd.DataFrame({\n",
        "    'False Postivie Rate' : fpr,\n",
        "    'True Positive Rate' : tpr,\n",
        "    'Thresholds' : thresholds\n",
        "})"
      ],
      "execution_count": 37,
      "outputs": [
        {
          "output_type": "execute_result",
          "data": {
            "text/html": [
              "<div>\n",
              "<style scoped>\n",
              "    .dataframe tbody tr th:only-of-type {\n",
              "        vertical-align: middle;\n",
              "    }\n",
              "\n",
              "    .dataframe tbody tr th {\n",
              "        vertical-align: top;\n",
              "    }\n",
              "\n",
              "    .dataframe thead th {\n",
              "        text-align: right;\n",
              "    }\n",
              "</style>\n",
              "<table border=\"1\" class=\"dataframe\">\n",
              "  <thead>\n",
              "    <tr style=\"text-align: right;\">\n",
              "      <th></th>\n",
              "      <th>False Postivie Rate</th>\n",
              "      <th>True Positive Rate</th>\n",
              "      <th>Thresholds</th>\n",
              "    </tr>\n",
              "  </thead>\n",
              "  <tbody>\n",
              "    <tr>\n",
              "      <th>0</th>\n",
              "      <td>0.000000</td>\n",
              "      <td>0.000000</td>\n",
              "      <td>2.000000</td>\n",
              "    </tr>\n",
              "    <tr>\n",
              "      <th>1</th>\n",
              "      <td>0.000000</td>\n",
              "      <td>0.101911</td>\n",
              "      <td>1.000000</td>\n",
              "    </tr>\n",
              "    <tr>\n",
              "      <th>2</th>\n",
              "      <td>0.017857</td>\n",
              "      <td>1.000000</td>\n",
              "      <td>0.989107</td>\n",
              "    </tr>\n",
              "    <tr>\n",
              "      <th>3</th>\n",
              "      <td>0.818452</td>\n",
              "      <td>1.000000</td>\n",
              "      <td>0.008242</td>\n",
              "    </tr>\n",
              "    <tr>\n",
              "      <th>4</th>\n",
              "      <td>1.000000</td>\n",
              "      <td>1.000000</td>\n",
              "      <td>0.000000</td>\n",
              "    </tr>\n",
              "  </tbody>\n",
              "</table>\n",
              "</div>"
            ],
            "text/plain": [
              "   False Postivie Rate  True Positive Rate  Thresholds\n",
              "0             0.000000            0.000000    2.000000\n",
              "1             0.000000            0.101911    1.000000\n",
              "2             0.017857            1.000000    0.989107\n",
              "3             0.818452            1.000000    0.008242\n",
              "4             1.000000            1.000000    0.000000"
            ]
          },
          "metadata": {
            "tags": []
          },
          "execution_count": 37
        }
      ]
    },
    {
      "cell_type": "code",
      "metadata": {
        "id": "tkDpZssniziV",
        "colab_type": "code",
        "colab": {
          "base_uri": "https://localhost:8080/",
          "height": 278
        },
        "outputId": "55332d75-f82d-4fa0-bee2-0cd6ab521225"
      },
      "source": [
        "# Receiver Operating Chrcteristic plt\n",
        "import matplotlib.pyplot as plt\n",
        "plt.scatter(fpr,tpr)\n",
        "plt.plot(fpr,tpr)\n",
        "plt.xlabel('False Positive Rate')\n",
        "plt.ylabel('True Positive Rate');"
      ],
      "execution_count": 38,
      "outputs": [
        {
          "output_type": "display_data",
          "data": {
            "image/png": "[encoded data removed]",
            "text/plain": [
              "<Figure size 432x288 with 1 Axes>"
            ]
          },
          "metadata": {
            "tags": []
          }
        }
      ]
    },
    {
      "cell_type": "code",
      "metadata": {
        "id": "7Hvhbh5Ri8Ad",
        "colab_type": "code",
        "colab": {
          "base_uri": "https://localhost:8080/",
          "height": 33
        },
        "outputId": "51ffc732-739f-47d3-fee9-d2304c084c32"
      },
      "source": [
        "from sklearn.metrics import roc_auc_score\n",
        "roc_auc_score(y_val, y_pred_proba)"
      ],
      "execution_count": 39,
      "outputs": [
        {
          "output_type": "execute_result",
          "data": {
            "text/plain": [
              "0.9919813466787989"
            ]
          },
          "metadata": {
            "tags": []
          },
          "execution_count": 39
        }
      ]
    },
    {
      "cell_type": "code",
      "metadata": {
        "id": "eKUvNadjkMRQ",
        "colab_type": "code",
        "colab": {}
      },
      "source": [
        "# Later, when you save matplotlib images to include in blog posts or web apps,\n",
        "# increase the dots per inch (double it), so the text isn't so fuzzy\n",
        "import matplotlib.pyplot as plt\n",
        "plt.rcParams['figure.dpi'] = 72\n",
        "\n",
        "\n",
        "import matplotlib.pyplot as plt\n",
        "plt.rcParams['figure.dpi'] = 72 # INCREASE FOR FIAL PUB TO 144\n"
      ],
      "execution_count": 0,
      "outputs": []
    },
    {
      "cell_type": "code",
      "metadata": {
        "id": "deMxQBdZkqCS",
        "colab_type": "code",
        "colab": {
          "base_uri": "https://localhost:8080/",
          "height": 361
        },
        "outputId": "eae269a4-ab58-42bd-c862-ca5632d3f82c"
      },
      "source": [
        "from pdpbox.pdp import pdp_isolate, pdp_plot\n",
        "feature ='odor'\n",
        "isolated = pdp_isolate(model=pipeline,\n",
        "                       dataset = X_val, \n",
        "                       model_features = X_val.columns, \n",
        "                       feature= feature)"
      ],
      "execution_count": 47,
      "outputs": [
        {
          "output_type": "error",
          "ename": "TypeError",
          "evalue": "ignored",
          "traceback": [
            "\u001b[0;31m---------------------------------------------------------------------------\u001b[0m",
            "\u001b[0;31mTypeError\u001b[0m                                 Traceback (most recent call last)",
            "\u001b[0;32m<ipython-input-47-308ff4fb53e4>\u001b[0m in \u001b[0;36m<module>\u001b[0;34m()\u001b[0m\n\u001b[1;32m      4\u001b[0m                        \u001b[0mdataset\u001b[0m \u001b[0;34m=\u001b[0m \u001b[0mX_val\u001b[0m\u001b[0;34m,\u001b[0m\u001b[0;34m\u001b[0m\u001b[0;34m\u001b[0m\u001b[0m\n\u001b[1;32m      5\u001b[0m                        \u001b[0mmodel_features\u001b[0m \u001b[0;34m=\u001b[0m \u001b[0mX_val\u001b[0m\u001b[0;34m.\u001b[0m\u001b[0mcolumns\u001b[0m\u001b[0;34m,\u001b[0m\u001b[0;34m\u001b[0m\u001b[0;34m\u001b[0m\u001b[0m\n\u001b[0;32m----> 6\u001b[0;31m                        feature= feature)\n\u001b[0m",
            "\u001b[0;32m/usr/local/lib/python3.6/dist-packages/pdpbox/pdp.py\u001b[0m in \u001b[0;36mpdp_isolate\u001b[0;34m(model, dataset, model_features, feature, num_grid_points, grid_type, percentile_range, grid_range, cust_grid_points, memory_limit, n_jobs, predict_kwds, data_transformer)\u001b[0m\n\u001b[1;32m    144\u001b[0m             feature_grids, percentile_info = _get_grids(\n\u001b[1;32m    145\u001b[0m                 \u001b[0mfeature_values\u001b[0m\u001b[0;34m=\u001b[0m\u001b[0m_dataset\u001b[0m\u001b[0;34m[\u001b[0m\u001b[0mfeature\u001b[0m\u001b[0;34m]\u001b[0m\u001b[0;34m.\u001b[0m\u001b[0mvalues\u001b[0m\u001b[0;34m,\u001b[0m \u001b[0mnum_grid_points\u001b[0m\u001b[0;34m=\u001b[0m\u001b[0mnum_grid_points\u001b[0m\u001b[0;34m,\u001b[0m \u001b[0mgrid_type\u001b[0m\u001b[0;34m=\u001b[0m\u001b[0mgrid_type\u001b[0m\u001b[0;34m,\u001b[0m\u001b[0;34m\u001b[0m\u001b[0;34m\u001b[0m\u001b[0m\n\u001b[0;32m--> 146\u001b[0;31m                 percentile_range=percentile_range, grid_range=grid_range)\n\u001b[0m\u001b[1;32m    147\u001b[0m         \u001b[0;32melse\u001b[0m\u001b[0;34m:\u001b[0m\u001b[0;34m\u001b[0m\u001b[0;34m\u001b[0m\u001b[0m\n\u001b[1;32m    148\u001b[0m             \u001b[0;31m# make sure grid points are unique and in ascending order\u001b[0m\u001b[0;34m\u001b[0m\u001b[0;34m\u001b[0m\u001b[0;34m\u001b[0m\u001b[0m\n",
            "\u001b[0;32m/usr/local/lib/python3.6/dist-packages/pdpbox/utils.py\u001b[0m in \u001b[0;36m_get_grids\u001b[0;34m(feature_values, num_grid_points, grid_type, percentile_range, grid_range)\u001b[0m\n\u001b[1;32m    235\u001b[0m \u001b[0;34m\u001b[0m\u001b[0m\n\u001b[1;32m    236\u001b[0m         \u001b[0mpercentile_grids\u001b[0m \u001b[0;34m=\u001b[0m \u001b[0mnp\u001b[0m\u001b[0;34m.\u001b[0m\u001b[0mlinspace\u001b[0m\u001b[0;34m(\u001b[0m\u001b[0mstart\u001b[0m\u001b[0;34m=\u001b[0m\u001b[0mstart\u001b[0m\u001b[0;34m,\u001b[0m \u001b[0mstop\u001b[0m\u001b[0;34m=\u001b[0m\u001b[0mend\u001b[0m\u001b[0;34m,\u001b[0m \u001b[0mnum\u001b[0m\u001b[0;34m=\u001b[0m\u001b[0mnum_grid_points\u001b[0m\u001b[0;34m)\u001b[0m\u001b[0;34m\u001b[0m\u001b[0;34m\u001b[0m\u001b[0m\n\u001b[0;32m--> 237\u001b[0;31m         \u001b[0mvalue_grids\u001b[0m \u001b[0;34m=\u001b[0m \u001b[0mnp\u001b[0m\u001b[0;34m.\u001b[0m\u001b[0mpercentile\u001b[0m\u001b[0;34m(\u001b[0m\u001b[0mfeature_values\u001b[0m\u001b[0;34m,\u001b[0m \u001b[0mpercentile_grids\u001b[0m\u001b[0;34m)\u001b[0m\u001b[0;34m\u001b[0m\u001b[0;34m\u001b[0m\u001b[0m\n\u001b[0m\u001b[1;32m    238\u001b[0m \u001b[0;34m\u001b[0m\u001b[0m\n\u001b[1;32m    239\u001b[0m         \u001b[0mgrids_df\u001b[0m \u001b[0;34m=\u001b[0m \u001b[0mpd\u001b[0m\u001b[0;34m.\u001b[0m\u001b[0mDataFrame\u001b[0m\u001b[0;34m(\u001b[0m\u001b[0;34m)\u001b[0m\u001b[0;34m\u001b[0m\u001b[0;34m\u001b[0m\u001b[0m\n",
            "\u001b[0;32m<__array_function__ internals>\u001b[0m in \u001b[0;36mpercentile\u001b[0;34m(*args, **kwargs)\u001b[0m\n",
            "\u001b[0;32m/usr/local/lib/python3.6/dist-packages/numpy/lib/function_base.py\u001b[0m in \u001b[0;36mpercentile\u001b[0;34m(a, q, axis, out, overwrite_input, interpolation, keepdims)\u001b[0m\n\u001b[1;32m   3711\u001b[0m         \u001b[0;32mraise\u001b[0m \u001b[0mValueError\u001b[0m\u001b[0;34m(\u001b[0m\u001b[0;34m\"Percentiles must be in the range [0, 100]\"\u001b[0m\u001b[0;34m)\u001b[0m\u001b[0;34m\u001b[0m\u001b[0;34m\u001b[0m\u001b[0m\n\u001b[1;32m   3712\u001b[0m     return _quantile_unchecked(\n\u001b[0;32m-> 3713\u001b[0;31m         a, q, axis, out, overwrite_input, interpolation, keepdims)\n\u001b[0m\u001b[1;32m   3714\u001b[0m \u001b[0;34m\u001b[0m\u001b[0m\n\u001b[1;32m   3715\u001b[0m \u001b[0;34m\u001b[0m\u001b[0m\n",
            "\u001b[0;32m/usr/local/lib/python3.6/dist-packages/numpy/lib/function_base.py\u001b[0m in \u001b[0;36m_quantile_unchecked\u001b[0;34m(a, q, axis, out, overwrite_input, interpolation, keepdims)\u001b[0m\n\u001b[1;32m   3831\u001b[0m     r, k = _ureduce(a, func=_quantile_ureduce_func, q=q, axis=axis, out=out,\n\u001b[1;32m   3832\u001b[0m                     \u001b[0moverwrite_input\u001b[0m\u001b[0;34m=\u001b[0m\u001b[0moverwrite_input\u001b[0m\u001b[0;34m,\u001b[0m\u001b[0;34m\u001b[0m\u001b[0;34m\u001b[0m\u001b[0m\n\u001b[0;32m-> 3833\u001b[0;31m                     interpolation=interpolation)\n\u001b[0m\u001b[1;32m   3834\u001b[0m     \u001b[0;32mif\u001b[0m \u001b[0mkeepdims\u001b[0m\u001b[0;34m:\u001b[0m\u001b[0;34m\u001b[0m\u001b[0;34m\u001b[0m\u001b[0m\n\u001b[1;32m   3835\u001b[0m         \u001b[0;32mreturn\u001b[0m \u001b[0mr\u001b[0m\u001b[0;34m.\u001b[0m\u001b[0mreshape\u001b[0m\u001b[0;34m(\u001b[0m\u001b[0mq\u001b[0m\u001b[0;34m.\u001b[0m\u001b[0mshape\u001b[0m \u001b[0;34m+\u001b[0m \u001b[0mk\u001b[0m\u001b[0;34m)\u001b[0m\u001b[0;34m\u001b[0m\u001b[0;34m\u001b[0m\u001b[0m\n",
            "\u001b[0;32m/usr/local/lib/python3.6/dist-packages/numpy/lib/function_base.py\u001b[0m in \u001b[0;36m_ureduce\u001b[0;34m(a, func, **kwargs)\u001b[0m\n\u001b[1;32m   3408\u001b[0m         \u001b[0mkeepdim\u001b[0m \u001b[0;34m=\u001b[0m \u001b[0;34m(\u001b[0m\u001b[0;36m1\u001b[0m\u001b[0;34m,\u001b[0m\u001b[0;34m)\u001b[0m \u001b[0;34m*\u001b[0m \u001b[0ma\u001b[0m\u001b[0;34m.\u001b[0m\u001b[0mndim\u001b[0m\u001b[0;34m\u001b[0m\u001b[0;34m\u001b[0m\u001b[0m\n\u001b[1;32m   3409\u001b[0m \u001b[0;34m\u001b[0m\u001b[0m\n\u001b[0;32m-> 3410\u001b[0;31m     \u001b[0mr\u001b[0m \u001b[0;34m=\u001b[0m \u001b[0mfunc\u001b[0m\u001b[0;34m(\u001b[0m\u001b[0ma\u001b[0m\u001b[0;34m,\u001b[0m \u001b[0;34m**\u001b[0m\u001b[0mkwargs\u001b[0m\u001b[0;34m)\u001b[0m\u001b[0;34m\u001b[0m\u001b[0;34m\u001b[0m\u001b[0m\n\u001b[0m\u001b[1;32m   3411\u001b[0m     \u001b[0;32mreturn\u001b[0m \u001b[0mr\u001b[0m\u001b[0;34m,\u001b[0m \u001b[0mkeepdim\u001b[0m\u001b[0;34m\u001b[0m\u001b[0;34m\u001b[0m\u001b[0m\n\u001b[1;32m   3412\u001b[0m \u001b[0;34m\u001b[0m\u001b[0m\n",
            "\u001b[0;32m/usr/local/lib/python3.6/dist-packages/numpy/lib/function_base.py\u001b[0m in \u001b[0;36m_quantile_ureduce_func\u001b[0;34m(a, q, axis, out, overwrite_input, interpolation, keepdims)\u001b[0m\n\u001b[1;32m   3946\u001b[0m             \u001b[0mn\u001b[0m \u001b[0;34m=\u001b[0m \u001b[0mnp\u001b[0m\u001b[0;34m.\u001b[0m\u001b[0misnan\u001b[0m\u001b[0;34m(\u001b[0m\u001b[0map\u001b[0m\u001b[0;34m[\u001b[0m\u001b[0;34m-\u001b[0m\u001b[0;36m1\u001b[0m\u001b[0;34m:\u001b[0m\u001b[0;34m,\u001b[0m \u001b[0;34m...\u001b[0m\u001b[0;34m]\u001b[0m\u001b[0;34m)\u001b[0m\u001b[0;34m\u001b[0m\u001b[0;34m\u001b[0m\u001b[0m\n\u001b[1;32m   3947\u001b[0m \u001b[0;34m\u001b[0m\u001b[0m\n\u001b[0;32m-> 3948\u001b[0;31m         \u001b[0mx1\u001b[0m \u001b[0;34m=\u001b[0m \u001b[0mtake\u001b[0m\u001b[0;34m(\u001b[0m\u001b[0map\u001b[0m\u001b[0;34m,\u001b[0m \u001b[0mindices_below\u001b[0m\u001b[0;34m,\u001b[0m \u001b[0maxis\u001b[0m\u001b[0;34m=\u001b[0m\u001b[0maxis\u001b[0m\u001b[0;34m)\u001b[0m \u001b[0;34m*\u001b[0m \u001b[0mweights_below\u001b[0m\u001b[0;34m\u001b[0m\u001b[0;34m\u001b[0m\u001b[0m\n\u001b[0m\u001b[1;32m   3949\u001b[0m         \u001b[0mx2\u001b[0m \u001b[0;34m=\u001b[0m \u001b[0mtake\u001b[0m\u001b[0;34m(\u001b[0m\u001b[0map\u001b[0m\u001b[0;34m,\u001b[0m \u001b[0mindices_above\u001b[0m\u001b[0;34m,\u001b[0m \u001b[0maxis\u001b[0m\u001b[0;34m=\u001b[0m\u001b[0maxis\u001b[0m\u001b[0;34m)\u001b[0m \u001b[0;34m*\u001b[0m \u001b[0mweights_above\u001b[0m\u001b[0;34m\u001b[0m\u001b[0;34m\u001b[0m\u001b[0m\n\u001b[1;32m   3950\u001b[0m \u001b[0;34m\u001b[0m\u001b[0m\n",
            "\u001b[0;31mTypeError\u001b[0m: can't multiply sequence by non-int of type 'float'"
          ]
        }
      ]
    },
    {
      "cell_type": "markdown",
      "metadata": {
        "id": "h8l6hPoFkoWU",
        "colab_type": "text"
      },
      "source": [
        "from pdpbox.pdp import pdp_isolate, pdp_plot\n",
        "\n",
        "feature = 'Annual Income'\n",
        "\n",
        "isolated = pdp_isolate(\n",
        "    model=gb, \n",
        "    dataset=X_val, \n",
        "    model_features=X_val.columns, \n",
        "    feature=feature\n",
        ")"
      ]
    },
    {
      "cell_type": "markdown",
      "metadata": {
        "id": "yLwgUrKsjGI3",
        "colab_type": "text"
      },
      "source": [
        "## Description of data:\n",
        "\n",
        "https://archive.ics.uci.edu/ml/machine-learning-databases/mushroom/agaricus-lepiota.names"
      ]
    },
    {
      "cell_type": "markdown",
      "metadata": {
        "id": "c2WuuqMujHdX",
        "colab_type": "text"
      },
      "source": [
        "\n",
        "\n",
        "```\n",
        "# 1. Title: Mushroom Database\n",
        "\n",
        "2. Sources: \n",
        "    (a) Mushroom records drawn from The Audubon Society Field Guide to North\n",
        "        American Mushrooms (1981). G. H. Lincoff (Pres.), New York: Alfred\n",
        "        A. Knopf\n",
        "    (b) Donor: Jeff Schlimmer (Jeffrey.Schlimmer@a.gp.cs.cmu.edu)\n",
        "    (c) Date: 27 April 1987\n",
        "\n",
        "3. Past Usage:\n",
        "    1. Schlimmer,J.S. (1987). Concept Acquisition Through Representational\n",
        "       Adjustment (Technical Report 87-19).  Doctoral disseration, Department\n",
        "       of Information and Computer Science, University of California, Irvine.\n",
        "       --- STAGGER: asymptoted to 95% classification accuracy after reviewing\n",
        "           1000 instances.\n",
        "    2. Iba,W., Wogulis,J., & Langley,P. (1988).  Trading off Simplicity\n",
        "       and Coverage in Incremental Concept Learning. In Proceedings of \n",
        "       the 5th International Conference on Machine Learning, 73-79.\n",
        "       Ann Arbor, Michigan: Morgan Kaufmann.  \n",
        "       -- approximately the same results with their HILLARY algorithm    \n",
        "    3. In the following references a set of rules (given below) were\n",
        "\tlearned for this data set which may serve as a point of\n",
        "\tcomparison for other researchers.\n",
        "\n",
        "\tDuch W, Adamczak R, Grabczewski K (1996) Extraction of logical rules\n",
        "\tfrom training data using backpropagation networks, in: Proc. of the\n",
        "\tThe 1st Online Workshop on Soft Computing, 19-30.Aug.1996, pp. 25-30,\n",
        "\tavailable on-line at: http://www.bioele.nuee.nagoya-u.ac.jp/wsc1/\n",
        "\n",
        "\tDuch W, Adamczak R, Grabczewski K, Ishikawa M, Ueda H, Extraction of\n",
        "\tcrisp logical rules using constrained backpropagation networks -\n",
        "\tcomparison of two new approaches, in: Proc. of the European Symposium\n",
        "\ton Artificial Neural Networks (ESANN'97), Bruge, Belgium 16-18.4.1997,\n",
        "\tpp. xx-xx\n",
        "\n",
        "\tWlodzislaw Duch, Department of Computer Methods, Nicholas Copernicus\n",
        "\tUniversity, 87-100 Torun, Grudziadzka 5, Poland\n",
        "\te-mail: duch@phys.uni.torun.pl\n",
        "\tWWW     http://www.phys.uni.torun.pl/kmk/\n",
        "\t\n",
        "\tDate: Mon, 17 Feb 1997 13:47:40 +0100\n",
        "\tFrom: Wlodzislaw Duch <duch@phys.uni.torun.pl>\n",
        "\tOrganization: Dept. of Computer Methods, UMK\n",
        "\n",
        "\tI have attached a file containing logical rules for mushrooms.\n",
        "\tIt should be helpful for other people since only in the last year I\n",
        "\thave seen about 10 papers analyzing this dataset and obtaining quite\n",
        "\tcomplex rules. We will try to contribute other results later.\n",
        "\n",
        "\tWith best regards, Wlodek Duch\n",
        "\t________________________________________________________________\n",
        "\n",
        "\tLogical rules for the mushroom data sets.\n",
        "\n",
        "\tLogical rules given below seem to be the simplest possible for the\n",
        "\tmushroom dataset and therefore should be treated as benchmark results.\n",
        "\n",
        "\tDisjunctive rules for poisonous mushrooms, from most general\n",
        "\tto most specific:\n",
        "\n",
        "\tP_1) odor=NOT(almond.OR.anise.OR.none)\n",
        "\t     120 poisonous cases missed, 98.52% accuracy\n",
        "\n",
        "\tP_2) spore-print-color=green\n",
        "\t     48 cases missed, 99.41% accuracy\n",
        "         \n",
        "\tP_3) odor=none.AND.stalk-surface-below-ring=scaly.AND.\n",
        "\t          (stalk-color-above-ring=NOT.brown) \n",
        "\t     8 cases missed, 99.90% accuracy\n",
        "         \n",
        "\tP_4) habitat=leaves.AND.cap-color=white\n",
        "\t         100% accuracy     \n",
        "\n",
        "\tRule P_4) may also be\n",
        "\n",
        "\tP_4') population=clustered.AND.cap_color=white\n",
        "\n",
        "\tThese rule involve 6 attributes (out of 22). Rules for edible\n",
        "\tmushrooms are obtained as negation of the rules given above, for\n",
        "\texample the rule:\n",
        "\n",
        "\todor=(almond.OR.anise.OR.none).AND.spore-print-color=NOT.green\n",
        "\n",
        "\tgives 48 errors, or 99.41% accuracy on the whole dataset.\n",
        "\n",
        "\tSeveral slightly more complex variations on these rules exist,\n",
        "\tinvolving other attributes, such as gill_size, gill_spacing,\n",
        "\tstalk_surface_above_ring, but the rules given above are the simplest\n",
        "\twe have found.\n",
        "\n",
        "\n",
        "4. Relevant Information:\n",
        "    This data set includes descriptions of hypothetical samples\n",
        "    corresponding to 23 species of gilled mushrooms in the Agaricus and\n",
        "    Lepiota Family (pp. 500-525).  Each species is identified as\n",
        "    definitely edible, definitely poisonous, or of unknown edibility and\n",
        "    not recommended.  This latter class was combined with the poisonous\n",
        "    one.  The Guide clearly states that there is no simple rule for\n",
        "    determining the edibility of a mushroom; no rule like ``leaflets\n",
        "    three, let it be'' for Poisonous Oak and Ivy.\n",
        "\n",
        "5. Number of Instances: 8124\n",
        "\n",
        "6. Number of Attributes: 22 (all nominally valued)\n",
        "\n",
        "7. Attribute Information: (classes: edible=e, poisonous=p)\n",
        "     1. cap-shape:                bell=b,conical=c,convex=x,flat=f,\n",
        "                                  knobbed=k,sunken=s\n",
        "     2. cap-surface:              fibrous=f,grooves=g,scaly=y,smooth=s\n",
        "     3. cap-color:                brown=n,buff=b,cinnamon=c,gray=g,green=r,\n",
        "                                  pink=p,purple=u,red=e,white=w,yellow=y\n",
        "     4. bruises?:                 bruises=t,no=f\n",
        "     5. odor:                     almond=a,anise=l,creosote=c,fishy=y,foul=f,\n",
        "                                  musty=m,none=n,pungent=p,spicy=s\n",
        "     6. gill-attachment:          attached=a,descending=d,free=f,notched=n\n",
        "     7. gill-spacing:             close=c,crowded=w,distant=d\n",
        "     8. gill-size:                broad=b,narrow=n\n",
        "     9. gill-color:               black=k,brown=n,buff=b,chocolate=h,gray=g,\n",
        "                                  green=r,orange=o,pink=p,purple=u,red=e,\n",
        "                                  white=w,yellow=y\n",
        "    10. stalk-shape:              enlarging=e,tapering=t\n",
        "    11. stalk-root:               bulbous=b,club=c,cup=u,equal=e,\n",
        "                                  rhizomorphs=z,rooted=r,missing=?\n",
        "    12. stalk-surface-above-ring: fibrous=f,scaly=y,silky=k,smooth=s\n",
        "    13. stalk-surface-below-ring: fibrous=f,scaly=y,silky=k,smooth=s\n",
        "    14. stalk-color-above-ring:   brown=n,buff=b,cinnamon=c,gray=g,orange=o,\n",
        "                                  pink=p,red=e,white=w,yellow=y\n",
        "    15. stalk-color-below-ring:   brown=n,buff=b,cinnamon=c,gray=g,orange=o,\n",
        "                                  pink=p,red=e,white=w,yellow=y\n",
        "    16. veil-type:                partial=p,universal=u\n",
        "    17. veil-color:               brown=n,orange=o,white=w,yellow=y\n",
        "    18. ring-number:              none=n,one=o,two=t\n",
        "    19. ring-type:                cobwebby=c,evanescent=e,flaring=f,large=l,\n",
        "                                  none=n,pendant=p,sheathing=s,zone=z\n",
        "    20. spore-print-color:        black=k,brown=n,buff=b,chocolate=h,green=r,\n",
        "                                  orange=o,purple=u,white=w,yellow=y\n",
        "    21. population:               abundant=a,clustered=c,numerous=n,\n",
        "                                  scattered=s,several=v,solitary=y\n",
        "    22. habitat:                  grasses=g,leaves=l,meadows=m,paths=p,\n",
        "                                  urban=u,waste=w,woods=d\n",
        "\n",
        "8. Missing Attribute Values: 2480 of them (denoted by \"?\"), all for\n",
        "   attribute #11.\n",
        "\n",
        "9. Class Distribution: \n",
        "    --    edible: 4208 (51.8%)\n",
        "    -- poisonous: 3916 (48.2%)\n",
        "    --     total: 8124 instances\n",
        "```\n",
        "\n"
      ]
    }
  ]
}