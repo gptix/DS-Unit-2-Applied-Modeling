{
  "nbformat": 4,
  "nbformat_minor": 0,
  "metadata": {
    "colab": {
      "name": "Jud Taylor - assignment_applied_modeling_2.ipynb",
      "provenance": [],
      "collapsed_sections": [],
      "toc_visible": true,
      "include_colab_link": true
    },
    "kernelspec": {
      "display_name": "Python 3",
      "language": "python",
      "name": "python3"
    },
    "language_info": {
      "codemirror_mode": {
        "name": "ipython",
        "version": 3
      },
      "file_extension": ".py",
      "mimetype": "text/x-python",
      "name": "python",
      "nbconvert_exporter": "python",
      "pygments_lexer": "ipython3",
      "version": "3.7.3"
    }
  },
  "cells": [
    {
      "cell_type": "markdown",
      "metadata": {
        "id": "view-in-github",
        "colab_type": "text"
      },
      "source": [
        "<a href=\"https://colab.research.google.com/github/gptix/DS-Unit-2-Applied-Modeling/blob/master/module3/Jud_Taylor_assignment_applied_modeling_2.ipynb\" target=\"_parent\"><img src=\"https://colab.research.google.com/assets/colab-badge.svg\" alt=\"Open In Colab\"/></a>"
      ]
    },
    {
      "cell_type": "markdown",
      "metadata": {
        "colab_type": "text",
        "id": "nCc3XZEyG3XV"
      },
      "source": [
        "Lambda School Data Science\n",
        "\n",
        "*Unit 2, Sprint 3, Module 3*\n",
        "\n",
        "-\n",
        "\n",
        "---\n",
        "\n",
        "-\n",
        "\n",
        "**I copied my data set from Monday, since yesterday I played with the Condos dataset.**\n",
        "\n",
        "-\n",
        "\n",
        "----\n",
        "\n",
        "\n",
        "\n",
        "I got a baseline metric, some accuracy scores, ran tree classifications, and calculated and visualized ROC curves.\n",
        "\n",
        "I still need to \n",
        "- Try xgboost.\n",
        "- Get your model's permutation importances.\n",
        "\n",
        "\n",
        "\n",
        "# Define ML problems\n",
        "\n",
        "You will use your portfolio project dataset for all assignments this sprint.\n",
        "\n",
        "## Assignment\n",
        "\n",
        "Complete these tasks for your project, and document your decisions.\n",
        "\n",
        "- [ ] Choose your target. Which column in your tabular dataset will you predict?\n",
        "- [ ] Is your problem regression or classification?\n",
        "- [ ] How is your target distributed?\n",
        "    - Classification: How many classes? Are the classes imbalanced?\n",
        "    - Regression: Is the target right-skewed? If so, you may want to log transform the target.\n",
        "- [ ] Choose your evaluation metric(s).\n",
        "    - Classification: Is your majority class frequency >= 50% and < 70% ? If so, you can just use accuracy if you want. Outside that range, accuracy could be misleading. What evaluation metric will you choose, in addition to or instead of accuracy?\n",
        "    - Regression: Will you use mean absolute error, root mean squared error, R^2, or other regression metrics?\n",
        "- [ ] Choose which observations you will use to train, validate, and test your model.\n",
        "    - Are some observations outliers? Will you exclude them?\n",
        "    - Will you do a random split or a time-based split?\n",
        "- [ ] Begin to clean and explore your data.\n",
        "- [ ] Begin to choose which features, if any, to exclude. Would some features \"leak\" future information?\n",
        "\n",
        "If you haven't found a dataset yet, do that today. [Review requirements for your portfolio project](https://lambdaschool.github.io/ds/unit2) and choose your dataset."
      ]
    },
    {
      "cell_type": "markdown",
      "metadata": {
        "id": "i0Y23agYxZpD",
        "colab_type": "text"
      },
      "source": [
        "Question: **Is this mushroom poisonous?**\n",
        "\n",
        "Data set: https://archive.ics.uci.edu/ml/datasets/mushroom\n",
        "\n",
        "**This is NOT one of the most popular UCI datasets.**"
      ]
    },
    {
      "cell_type": "markdown",
      "metadata": {
        "id": "pyknC6Uz_9bR",
        "colab_type": "text"
      },
      "source": [
        "## Ingest Data"
      ]
    },
    {
      "cell_type": "code",
      "metadata": {
        "id": "hv5eQQAAIxsm",
        "colab_type": "code",
        "colab": {}
      },
      "source": [
        "%%capture\n",
        "import sys\n",
        "\n",
        "# If Colab:\n",
        "if 'google.colab' in sys.modules:\n",
        "    DATA_PATH = 'https://raw.githubusercontent.com/gptix/Project2/master/'\n",
        "    !pip install category_encoders==2.*\n",
        "\n",
        "# If local:\n",
        "else:\n",
        "    DATA_PATH = '../data/'"
      ],
      "execution_count": 0,
      "outputs": []
    },
    {
      "cell_type": "code",
      "metadata": {
        "id": "umtaqvXAJdvY",
        "colab_type": "code",
        "outputId": "f2885945-eba3-446e-bc11-f686f8fb36c6",
        "colab": {
          "base_uri": "https://localhost:8080/",
          "height": 33
        }
      },
      "source": [
        "import pandas as pd\n",
        "\n",
        "# I extracted these column names from the text file \n",
        "# https://archive.ics.uci.edu/ml/machine-learning-databases/mushroom/agaricus-lepiota.names\n",
        "# I added the column 'poisonous', which was unlabeled in the original set.\n",
        "\n",
        "colnames = ['poisonous', 'cap-shape', 'cap-surface', 'cap-color', 'bruises?',\n",
        "            'odor', 'gill-attachment', 'gill-spacing', 'gill-size',\n",
        "            'gill-color', 'stalk-shape', 'stalk-root', \n",
        "            'stalk-surface-above-ring', 'stalk-surface-below-ring',\n",
        "            'stalk-color-above-ring', 'stalk-color-below-ring', 'veil-type', \n",
        "            'veil-color', 'ring-number', 'ring-type', 'spore-print-color', \n",
        "            'population', 'habitat']\n",
        "\n",
        "filename = 'agaricus-lepiota.data?token=AFCZYWEJZMR7ABZFRB62GKK6AEJIM'\n",
        "\n",
        "df = pd.read_csv(DATA_PATH + filename, header=None, names=colnames)\n",
        "df.shape"
      ],
      "execution_count": 0,
      "outputs": [
        {
          "output_type": "execute_result",
          "data": {
            "text/plain": [
              "(8124, 23)"
            ]
          },
          "metadata": {
            "tags": []
          },
          "execution_count": 2
        }
      ]
    },
    {
      "cell_type": "markdown",
      "metadata": {
        "id": "Y74Y30wgOvsp",
        "colab_type": "text"
      },
      "source": [
        "## Make Backup for backup and restore"
      ]
    },
    {
      "cell_type": "code",
      "metadata": {
        "id": "Q5Xdj3v7NR9h",
        "colab_type": "code",
        "colab": {}
      },
      "source": [
        "df_bak = df"
      ],
      "execution_count": 0,
      "outputs": []
    },
    {
      "cell_type": "code",
      "metadata": {
        "id": "XRTcDkReNUs8",
        "colab_type": "code",
        "colab": {}
      },
      "source": [
        "# df = df_bak"
      ],
      "execution_count": 0,
      "outputs": []
    },
    {
      "cell_type": "markdown",
      "metadata": {
        "id": "wJBgU616AF3p",
        "colab_type": "text"
      },
      "source": [
        "## Examine Data"
      ]
    },
    {
      "cell_type": "code",
      "metadata": {
        "id": "2P52_rIDACaK",
        "colab_type": "code",
        "outputId": "3fbf7b51-6c0b-4f7e-9868-59eda8eda2dd",
        "colab": {
          "base_uri": "https://localhost:8080/",
          "height": 260
        }
      },
      "source": [
        "df.head()\n",
        "# examine data"
      ],
      "execution_count": 0,
      "outputs": [
        {
          "output_type": "execute_result",
          "data": {
            "text/html": [
              "<div>\n",
              "<style scoped>\n",
              "    .dataframe tbody tr th:only-of-type {\n",
              "        vertical-align: middle;\n",
              "    }\n",
              "\n",
              "    .dataframe tbody tr th {\n",
              "        vertical-align: top;\n",
              "    }\n",
              "\n",
              "    .dataframe thead th {\n",
              "        text-align: right;\n",
              "    }\n",
              "</style>\n",
              "<table border=\"1\" class=\"dataframe\">\n",
              "  <thead>\n",
              "    <tr style=\"text-align: right;\">\n",
              "      <th></th>\n",
              "      <th>poisonous</th>\n",
              "      <th>cap-shape</th>\n",
              "      <th>cap-surface</th>\n",
              "      <th>cap-color</th>\n",
              "      <th>bruises?</th>\n",
              "      <th>odor</th>\n",
              "      <th>gill-attachment</th>\n",
              "      <th>gill-spacing</th>\n",
              "      <th>gill-size</th>\n",
              "      <th>gill-color</th>\n",
              "      <th>stalk-shape</th>\n",
              "      <th>stalk-root</th>\n",
              "      <th>stalk-surface-above-ring</th>\n",
              "      <th>stalk-surface-below-ring</th>\n",
              "      <th>stalk-color-above-ring</th>\n",
              "      <th>stalk-color-below-ring</th>\n",
              "      <th>veil-type</th>\n",
              "      <th>veil-color</th>\n",
              "      <th>ring-number</th>\n",
              "      <th>ring-type</th>\n",
              "      <th>spore-print-color</th>\n",
              "      <th>population</th>\n",
              "      <th>habitat</th>\n",
              "    </tr>\n",
              "  </thead>\n",
              "  <tbody>\n",
              "    <tr>\n",
              "      <th>0</th>\n",
              "      <td>p</td>\n",
              "      <td>x</td>\n",
              "      <td>s</td>\n",
              "      <td>n</td>\n",
              "      <td>t</td>\n",
              "      <td>p</td>\n",
              "      <td>f</td>\n",
              "      <td>c</td>\n",
              "      <td>n</td>\n",
              "      <td>k</td>\n",
              "      <td>e</td>\n",
              "      <td>e</td>\n",
              "      <td>s</td>\n",
              "      <td>s</td>\n",
              "      <td>w</td>\n",
              "      <td>w</td>\n",
              "      <td>p</td>\n",
              "      <td>w</td>\n",
              "      <td>o</td>\n",
              "      <td>p</td>\n",
              "      <td>k</td>\n",
              "      <td>s</td>\n",
              "      <td>u</td>\n",
              "    </tr>\n",
              "    <tr>\n",
              "      <th>1</th>\n",
              "      <td>e</td>\n",
              "      <td>x</td>\n",
              "      <td>s</td>\n",
              "      <td>y</td>\n",
              "      <td>t</td>\n",
              "      <td>a</td>\n",
              "      <td>f</td>\n",
              "      <td>c</td>\n",
              "      <td>b</td>\n",
              "      <td>k</td>\n",
              "      <td>e</td>\n",
              "      <td>c</td>\n",
              "      <td>s</td>\n",
              "      <td>s</td>\n",
              "      <td>w</td>\n",
              "      <td>w</td>\n",
              "      <td>p</td>\n",
              "      <td>w</td>\n",
              "      <td>o</td>\n",
              "      <td>p</td>\n",
              "      <td>n</td>\n",
              "      <td>n</td>\n",
              "      <td>g</td>\n",
              "    </tr>\n",
              "    <tr>\n",
              "      <th>2</th>\n",
              "      <td>e</td>\n",
              "      <td>b</td>\n",
              "      <td>s</td>\n",
              "      <td>w</td>\n",
              "      <td>t</td>\n",
              "      <td>l</td>\n",
              "      <td>f</td>\n",
              "      <td>c</td>\n",
              "      <td>b</td>\n",
              "      <td>n</td>\n",
              "      <td>e</td>\n",
              "      <td>c</td>\n",
              "      <td>s</td>\n",
              "      <td>s</td>\n",
              "      <td>w</td>\n",
              "      <td>w</td>\n",
              "      <td>p</td>\n",
              "      <td>w</td>\n",
              "      <td>o</td>\n",
              "      <td>p</td>\n",
              "      <td>n</td>\n",
              "      <td>n</td>\n",
              "      <td>m</td>\n",
              "    </tr>\n",
              "    <tr>\n",
              "      <th>3</th>\n",
              "      <td>p</td>\n",
              "      <td>x</td>\n",
              "      <td>y</td>\n",
              "      <td>w</td>\n",
              "      <td>t</td>\n",
              "      <td>p</td>\n",
              "      <td>f</td>\n",
              "      <td>c</td>\n",
              "      <td>n</td>\n",
              "      <td>n</td>\n",
              "      <td>e</td>\n",
              "      <td>e</td>\n",
              "      <td>s</td>\n",
              "      <td>s</td>\n",
              "      <td>w</td>\n",
              "      <td>w</td>\n",
              "      <td>p</td>\n",
              "      <td>w</td>\n",
              "      <td>o</td>\n",
              "      <td>p</td>\n",
              "      <td>k</td>\n",
              "      <td>s</td>\n",
              "      <td>u</td>\n",
              "    </tr>\n",
              "    <tr>\n",
              "      <th>4</th>\n",
              "      <td>e</td>\n",
              "      <td>x</td>\n",
              "      <td>s</td>\n",
              "      <td>g</td>\n",
              "      <td>f</td>\n",
              "      <td>n</td>\n",
              "      <td>f</td>\n",
              "      <td>w</td>\n",
              "      <td>b</td>\n",
              "      <td>k</td>\n",
              "      <td>t</td>\n",
              "      <td>e</td>\n",
              "      <td>s</td>\n",
              "      <td>s</td>\n",
              "      <td>w</td>\n",
              "      <td>w</td>\n",
              "      <td>p</td>\n",
              "      <td>w</td>\n",
              "      <td>o</td>\n",
              "      <td>e</td>\n",
              "      <td>n</td>\n",
              "      <td>a</td>\n",
              "      <td>g</td>\n",
              "    </tr>\n",
              "  </tbody>\n",
              "</table>\n",
              "</div>"
            ],
            "text/plain": [
              "  poisonous cap-shape cap-surface  ... spore-print-color population habitat\n",
              "0         p         x           s  ...                 k          s       u\n",
              "1         e         x           s  ...                 n          n       g\n",
              "2         e         b           s  ...                 n          n       m\n",
              "3         p         x           y  ...                 k          s       u\n",
              "4         e         x           s  ...                 n          a       g\n",
              "\n",
              "[5 rows x 23 columns]"
            ]
          },
          "metadata": {
            "tags": []
          },
          "execution_count": 5
        }
      ]
    },
    {
      "cell_type": "markdown",
      "metadata": {
        "id": "XE5IUhu2AQM5",
        "colab_type": "text"
      },
      "source": [
        "## Select Target (and feature)"
      ]
    },
    {
      "cell_type": "code",
      "metadata": {
        "id": "wIvtnd1_LXDf",
        "colab_type": "code",
        "outputId": "7d4f7c5d-ad91-42eb-b0bc-dd79a7122267",
        "colab": {
          "base_uri": "https://localhost:8080/",
          "height": 411
        }
      },
      "source": [
        "# I choose to predict 'poisonous'.\n",
        "target = 'poisonous'\n",
        "\n",
        "features = list(set(colnames) - set([target]))\n",
        "\n",
        "print(features)\n",
        "y = df[target]\n",
        "y.describe()\n",
        "\n",
        "features"
      ],
      "execution_count": 0,
      "outputs": [
        {
          "output_type": "stream",
          "text": [
            "['spore-print-color', 'ring-type', 'habitat', 'veil-color', 'stalk-color-below-ring', 'cap-surface', 'ring-number', 'cap-color', 'veil-type', 'gill-spacing', 'stalk-surface-above-ring', 'stalk-color-above-ring', 'cap-shape', 'gill-color', 'gill-attachment', 'stalk-root', 'gill-size', 'odor', 'population', 'stalk-surface-below-ring', 'stalk-shape', 'bruises?']\n"
          ],
          "name": "stdout"
        },
        {
          "output_type": "execute_result",
          "data": {
            "text/plain": [
              "['spore-print-color',\n",
              " 'ring-type',\n",
              " 'habitat',\n",
              " 'veil-color',\n",
              " 'stalk-color-below-ring',\n",
              " 'cap-surface',\n",
              " 'ring-number',\n",
              " 'cap-color',\n",
              " 'veil-type',\n",
              " 'gill-spacing',\n",
              " 'stalk-surface-above-ring',\n",
              " 'stalk-color-above-ring',\n",
              " 'cap-shape',\n",
              " 'gill-color',\n",
              " 'gill-attachment',\n",
              " 'stalk-root',\n",
              " 'gill-size',\n",
              " 'odor',\n",
              " 'population',\n",
              " 'stalk-surface-below-ring',\n",
              " 'stalk-shape',\n",
              " 'bruises?']"
            ]
          },
          "metadata": {
            "tags": []
          },
          "execution_count": 6
        }
      ]
    },
    {
      "cell_type": "markdown",
      "metadata": {
        "id": "FXrzk7tYMHe3",
        "colab_type": "text"
      },
      "source": [
        "## Decide Regression/Classification\n",
        "\n",
        "The problem is most intuitively one of **classification**.\n",
        "\n",
        "I might also build a **predicted probability** model."
      ]
    },
    {
      "cell_type": "markdown",
      "metadata": {
        "id": "kswmA_jqMTiz",
        "colab_type": "text"
      },
      "source": [
        "## How is your target distributed?\n",
        "\n",
        "Classification: \n",
        "- How many classes? **Two**:\n",
        "  - poisonous\n",
        "  - edible\n",
        "\n",
        "- Are the classes imbalanced? **They are eerily balanced.**"
      ]
    },
    {
      "cell_type": "code",
      "metadata": {
        "id": "xSvG_nvkM2Gm",
        "colab_type": "code",
        "outputId": "03df0fdb-30fb-44ae-f33d-b4bd1d015581",
        "colab": {
          "base_uri": "https://localhost:8080/",
          "height": 33
        }
      },
      "source": [
        "y.value_counts(normalize=True).max()"
      ],
      "execution_count": 0,
      "outputs": [
        {
          "output_type": "execute_result",
          "data": {
            "text/plain": [
              "0.517971442639094"
            ]
          },
          "metadata": {
            "tags": []
          },
          "execution_count": 7
        }
      ]
    },
    {
      "cell_type": "code",
      "metadata": {
        "id": "MCFlnHDjzhpR",
        "colab_type": "code",
        "colab": {}
      },
      "source": [
        "# Derive binary classifiction target:\n",
        "df['poisonous'] = df['poisonous'] == 'p'"
      ],
      "execution_count": 0,
      "outputs": []
    },
    {
      "cell_type": "code",
      "metadata": {
        "id": "PKcEMZJN0Az3",
        "colab_type": "code",
        "outputId": "a8efb167-faed-4206-b722-a5d92c160d10",
        "colab": {
          "base_uri": "https://localhost:8080/",
          "height": 66
        }
      },
      "source": [
        "df['poisonous'].value_counts()"
      ],
      "execution_count": 0,
      "outputs": [
        {
          "output_type": "execute_result",
          "data": {
            "text/plain": [
              "False    4208\n",
              "True     3916\n",
              "Name: poisonous, dtype: int64"
            ]
          },
          "metadata": {
            "tags": []
          },
          "execution_count": 19
        }
      ]
    },
    {
      "cell_type": "code",
      "metadata": {
        "id": "-syWTHM716Ab",
        "colab_type": "code",
        "outputId": "35868de7-97e9-44ea-f2ce-188260b5e0e4",
        "colab": {
          "base_uri": "https://localhost:8080/",
          "height": 131
        }
      },
      "source": [
        "df.columns"
      ],
      "execution_count": 0,
      "outputs": [
        {
          "output_type": "execute_result",
          "data": {
            "text/plain": [
              "Index(['poisonous', 'cap-shape', 'cap-surface', 'cap-color', 'bruises?',\n",
              "       'odor', 'gill-attachment', 'gill-spacing', 'gill-size', 'gill-color',\n",
              "       'stalk-shape', 'stalk-root', 'stalk-surface-above-ring',\n",
              "       'stalk-surface-below-ring', 'stalk-color-above-ring',\n",
              "       'stalk-color-below-ring', 'veil-type', 'veil-color', 'ring-number',\n",
              "       'ring-type', 'spore-print-color', 'population', 'habitat'],\n",
              "      dtype='object')"
            ]
          },
          "metadata": {
            "tags": []
          },
          "execution_count": 10
        }
      ]
    },
    {
      "cell_type": "code",
      "metadata": {
        "id": "Bqeutzhc13xA",
        "colab_type": "code",
        "outputId": "4f699b8a-c137-45b5-b27c-91a569ddc0bc",
        "colab": {
          "base_uri": "https://localhost:8080/",
          "height": 147
        }
      },
      "source": [
        "# examine columns\n",
        "df.groupby('cap-shape')['cap-shape'].count()"
      ],
      "execution_count": 0,
      "outputs": [
        {
          "output_type": "execute_result",
          "data": {
            "text/plain": [
              "cap-shape\n",
              "b     452\n",
              "c       4\n",
              "f    3152\n",
              "k     828\n",
              "s      32\n",
              "x    3656\n",
              "Name: cap-shape, dtype: int64"
            ]
          },
          "metadata": {
            "tags": []
          },
          "execution_count": 11
        }
      ]
    },
    {
      "cell_type": "markdown",
      "metadata": {
        "id": "LRFPHDzwAsLn",
        "colab_type": "text"
      },
      "source": [
        "## Convert single characters to strings.\n",
        "\n",
        "This is to aid viewing.\n",
        "\n",
        "These will be encoded back into numbers in a pipeline later."
      ]
    },
    {
      "cell_type": "code",
      "metadata": {
        "id": "8YvLOv34Lz0n",
        "colab_type": "code",
        "outputId": "3d47b782-df04-4738-96c8-46d5e03ddcfe",
        "colab": {
          "base_uri": "https://localhost:8080/",
          "height": 260
        }
      },
      "source": [
        "df['cap-shape'] = df['cap-shape'].map({'b' : 'bell', 'c' : 'conical', 'x' : 'convex', 'f' : 'flat', 'k' : 'WYknobbed', 's' : 'sunken'})\n",
        "df['cap-surface'] = df['cap-surface'].map({'f' : 'fibrous', 'g' : 'grooves', 'y' : 'scaly', 's' : 'smooth'})\n",
        "df['cap-color'] = df['cap-color'].map({'n' : 'brown', 'b' : 'buff', 'c' : 'cinnamon', 'g' : 'gray', 'r' : 'green', 'p' : 'pink', 'u' : 'purple', 'e' : 'red', 'w' : 'white', 'y' : 'yellow'})\n",
        "df['bruises?'] = df['bruises?'].map({'t' : 'bruises', 'f' : 'no'})\n",
        "df['odor'] = df['odor'].map({'a' : 'almond', 'l' : 'anise', 'c' : 'creosote', 'y' : 'fishy', 'f' : 'foul', 'm' : 'musty', 'n' : 'none', 'p' : 'pungent', 's' : 'spicy'})\n",
        "df['gill-attachment'] = df['gill-attachment'].map({'a' : 'attached', 'd' : 'descending', 'f' : 'free', 'n' : 'notched'})\n",
        "df['gill-spacing'] = df['gill-spacing'].map({'c' : 'close', 'w' : 'crowded', 'd' : 'distant'})\n",
        "df['gill-size'] = df['gill-size'].map({'b' : 'broad', 'n' : 'narrow'})\n",
        "df['gill-color'] = df['gill-color'].map({'k' : 'black', 'n' : 'brown', 'b' : 'buff', 'h' : 'chocolate', 'g' : 'gray', 'r' : 'green', 'o' : 'orange', 'p' : 'pink', 'u' : 'purple', 'e' : 'red', 'w' : 'white', 'y' : 'yellow'})\n",
        "df['stalk-shape'] = df['stalk-shape'].map({'e' : 'enlarging', 't' : 'tapering'})\n",
        "df['stalk-root'] = df['stalk-root'].map({'b' : 'bulbous', 'c' : 'club', 'u' : 'cup', 'e' : 'equal', 'z' : 'rhizomorphs', 'r' : 'rooted', '?' : 'missing'})\n",
        "df['stalk-surface-above-ring'] = df['stalk-surface-above-ring'].map({'f' : 'fibrous', 'y' : 'scaly', 'k' : 'silky', 's' : 'smooth'})\n",
        "df['stalk-surface-below-ring'] = df['stalk-surface-below-ring'].map({'f' : 'fibrous', 'y' : 'scaly', 'k' : 'silky', 's' : 'smooth'})\n",
        "df['stalk-color-above-ring'] = df['stalk-color-above-ring'].map({'n' : 'brown', 'b' : 'buff', 'c' : 'cinnamon', 'g' : 'gray', 'o' : 'orange', 'p' : 'pink', 'e' : 'red', 'w' : 'white', 'y' : 'yellow'})\n",
        "df['stalk-color-below-ring'] = df['stalk-color-below-ring'].map({'n' : 'brown', 'b' : 'buff', 'c' : 'cinnamon', 'g' : 'gray', 'o' : 'orange', 'p' : 'pink', 'e' : 'red', 'w' : 'white', 'y' : 'yellow'})\n",
        "df['veil-type'] = df['veil-type'].map({'p' : 'partial', 'u' : 'universal'})\n",
        "df['veil-color'] = df['veil-color'].map({'n' : 'brown', 'o' : 'orange', 'w' : 'white', 'y' : 'yellow'})\n",
        "df['ring-number'] = df['ring-number'].map({'n' : 'none', 'o' : 'one', 't' : 'two'})\n",
        "df['ring-type'] = df['ring-type'].map({'c' : 'cobwebby', 'e' : 'evanescent', 'f' : 'flaring', 'l' : 'large', 'n' : 'none', 'p' : 'pendant', 's' : 'sheathing', 'z' : 'zone'})\n",
        "df['spore-print-color'] = df['spore-print-color'].map({'k' : 'black', 'n' : 'brown', 'b' : 'buff', 'h' : 'chocolate', 'r' : 'green', 'o' : 'orange', 'u' : 'purple', 'w' : 'white', 'y' : 'yellow'})\n",
        "df['population'] = df['population'].map({'a' : 'abundant', 'c' : 'clustered', 'n' : 'numerous', 's' : 'scattered', 'v' : 'several', 'y' : 'solitary'})\n",
        "df['habitat'] = df['habitat'].map({'g' : 'grasses', 'l' : 'leaves', 'm' : 'meadows', 'p' : 'paths', 'u' : 'urban', 'w' : 'waste', 'd' : 'woods'})\n",
        "\n",
        "df.head()\n"
      ],
      "execution_count": 0,
      "outputs": [
        {
          "output_type": "execute_result",
          "data": {
            "text/html": [
              "<div>\n",
              "<style scoped>\n",
              "    .dataframe tbody tr th:only-of-type {\n",
              "        vertical-align: middle;\n",
              "    }\n",
              "\n",
              "    .dataframe tbody tr th {\n",
              "        vertical-align: top;\n",
              "    }\n",
              "\n",
              "    .dataframe thead th {\n",
              "        text-align: right;\n",
              "    }\n",
              "</style>\n",
              "<table border=\"1\" class=\"dataframe\">\n",
              "  <thead>\n",
              "    <tr style=\"text-align: right;\">\n",
              "      <th></th>\n",
              "      <th>poisonous</th>\n",
              "      <th>cap-shape</th>\n",
              "      <th>cap-surface</th>\n",
              "      <th>cap-color</th>\n",
              "      <th>bruises?</th>\n",
              "      <th>odor</th>\n",
              "      <th>gill-attachment</th>\n",
              "      <th>gill-spacing</th>\n",
              "      <th>gill-size</th>\n",
              "      <th>gill-color</th>\n",
              "      <th>stalk-shape</th>\n",
              "      <th>stalk-root</th>\n",
              "      <th>stalk-surface-above-ring</th>\n",
              "      <th>stalk-surface-below-ring</th>\n",
              "      <th>stalk-color-above-ring</th>\n",
              "      <th>stalk-color-below-ring</th>\n",
              "      <th>veil-type</th>\n",
              "      <th>veil-color</th>\n",
              "      <th>ring-number</th>\n",
              "      <th>ring-type</th>\n",
              "      <th>spore-print-color</th>\n",
              "      <th>population</th>\n",
              "      <th>habitat</th>\n",
              "    </tr>\n",
              "  </thead>\n",
              "  <tbody>\n",
              "    <tr>\n",
              "      <th>0</th>\n",
              "      <td>True</td>\n",
              "      <td>convex</td>\n",
              "      <td>smooth</td>\n",
              "      <td>brown</td>\n",
              "      <td>bruises</td>\n",
              "      <td>pungent</td>\n",
              "      <td>free</td>\n",
              "      <td>close</td>\n",
              "      <td>narrow</td>\n",
              "      <td>black</td>\n",
              "      <td>enlarging</td>\n",
              "      <td>equal</td>\n",
              "      <td>smooth</td>\n",
              "      <td>smooth</td>\n",
              "      <td>white</td>\n",
              "      <td>white</td>\n",
              "      <td>partial</td>\n",
              "      <td>white</td>\n",
              "      <td>one</td>\n",
              "      <td>pendant</td>\n",
              "      <td>black</td>\n",
              "      <td>scattered</td>\n",
              "      <td>urban</td>\n",
              "    </tr>\n",
              "    <tr>\n",
              "      <th>1</th>\n",
              "      <td>False</td>\n",
              "      <td>convex</td>\n",
              "      <td>smooth</td>\n",
              "      <td>yellow</td>\n",
              "      <td>bruises</td>\n",
              "      <td>almond</td>\n",
              "      <td>free</td>\n",
              "      <td>close</td>\n",
              "      <td>broad</td>\n",
              "      <td>black</td>\n",
              "      <td>enlarging</td>\n",
              "      <td>club</td>\n",
              "      <td>smooth</td>\n",
              "      <td>smooth</td>\n",
              "      <td>white</td>\n",
              "      <td>white</td>\n",
              "      <td>partial</td>\n",
              "      <td>white</td>\n",
              "      <td>one</td>\n",
              "      <td>pendant</td>\n",
              "      <td>brown</td>\n",
              "      <td>numerous</td>\n",
              "      <td>grasses</td>\n",
              "    </tr>\n",
              "    <tr>\n",
              "      <th>2</th>\n",
              "      <td>False</td>\n",
              "      <td>bell</td>\n",
              "      <td>smooth</td>\n",
              "      <td>white</td>\n",
              "      <td>bruises</td>\n",
              "      <td>anise</td>\n",
              "      <td>free</td>\n",
              "      <td>close</td>\n",
              "      <td>broad</td>\n",
              "      <td>brown</td>\n",
              "      <td>enlarging</td>\n",
              "      <td>club</td>\n",
              "      <td>smooth</td>\n",
              "      <td>smooth</td>\n",
              "      <td>white</td>\n",
              "      <td>white</td>\n",
              "      <td>partial</td>\n",
              "      <td>white</td>\n",
              "      <td>one</td>\n",
              "      <td>pendant</td>\n",
              "      <td>brown</td>\n",
              "      <td>numerous</td>\n",
              "      <td>meadows</td>\n",
              "    </tr>\n",
              "    <tr>\n",
              "      <th>3</th>\n",
              "      <td>True</td>\n",
              "      <td>convex</td>\n",
              "      <td>scaly</td>\n",
              "      <td>white</td>\n",
              "      <td>bruises</td>\n",
              "      <td>pungent</td>\n",
              "      <td>free</td>\n",
              "      <td>close</td>\n",
              "      <td>narrow</td>\n",
              "      <td>brown</td>\n",
              "      <td>enlarging</td>\n",
              "      <td>equal</td>\n",
              "      <td>smooth</td>\n",
              "      <td>smooth</td>\n",
              "      <td>white</td>\n",
              "      <td>white</td>\n",
              "      <td>partial</td>\n",
              "      <td>white</td>\n",
              "      <td>one</td>\n",
              "      <td>pendant</td>\n",
              "      <td>black</td>\n",
              "      <td>scattered</td>\n",
              "      <td>urban</td>\n",
              "    </tr>\n",
              "    <tr>\n",
              "      <th>4</th>\n",
              "      <td>False</td>\n",
              "      <td>convex</td>\n",
              "      <td>smooth</td>\n",
              "      <td>gray</td>\n",
              "      <td>no</td>\n",
              "      <td>none</td>\n",
              "      <td>free</td>\n",
              "      <td>crowded</td>\n",
              "      <td>broad</td>\n",
              "      <td>black</td>\n",
              "      <td>tapering</td>\n",
              "      <td>equal</td>\n",
              "      <td>smooth</td>\n",
              "      <td>smooth</td>\n",
              "      <td>white</td>\n",
              "      <td>white</td>\n",
              "      <td>partial</td>\n",
              "      <td>white</td>\n",
              "      <td>one</td>\n",
              "      <td>evanescent</td>\n",
              "      <td>brown</td>\n",
              "      <td>abundant</td>\n",
              "      <td>grasses</td>\n",
              "    </tr>\n",
              "  </tbody>\n",
              "</table>\n",
              "</div>"
            ],
            "text/plain": [
              "   poisonous cap-shape cap-surface  ... spore-print-color population  habitat\n",
              "0       True    convex      smooth  ...             black  scattered    urban\n",
              "1      False    convex      smooth  ...             brown   numerous  grasses\n",
              "2      False      bell      smooth  ...             brown   numerous  meadows\n",
              "3       True    convex       scaly  ...             black  scattered    urban\n",
              "4      False    convex      smooth  ...             brown   abundant  grasses\n",
              "\n",
              "[5 rows x 23 columns]"
            ]
          },
          "metadata": {
            "tags": []
          },
          "execution_count": 12
        }
      ]
    },
    {
      "cell_type": "markdown",
      "metadata": {
        "id": "__ioyipLNdM1",
        "colab_type": "text"
      },
      "source": [
        "## Choose your evaluation metric(s).\n",
        "\n",
        "Classification: Is your majority class frequency >= 50% and < 70% ?\n",
        "\n",
        " **Yes**. \n",
        "\n",
        "If so, you can just use accuracy if you want. \n",
        "\n",
        "\n",
        "I'll use **accuracy**.\n",
        "\n",
        "I'll want to use **precision**, since the cost of a false negative is high."
      ]
    },
    {
      "cell_type": "markdown",
      "metadata": {
        "id": "3lhOtLQDN08y",
        "colab_type": "text"
      },
      "source": [
        "Choose which observations you will use to train, validate, and test your model.\n",
        "\n",
        "Are some observations outliers? \n",
        "\n",
        "Will you exclude them?\n",
        "\n",
        "Will you do a random split or a time-based split?  \n",
        "\n",
        "**My data set has no time component.**  \n",
        "\n",
        "**I'll use a random split**.\n"
      ]
    },
    {
      "cell_type": "code",
      "metadata": {
        "id": "th1ImawiMqoA",
        "colab_type": "code",
        "outputId": "1e76ee58-8de0-43b9-f077-4638da87813c",
        "colab": {
          "base_uri": "https://localhost:8080/",
          "height": 66
        }
      },
      "source": [
        "from sklearn.model_selection import train_test_split\n",
        "train, test = train_test_split(df, test_size=0.2, random_state=1984)\n",
        "train, val = train_test_split(train, test_size=0.2, random_state=1984)\n",
        "\n",
        "print(train.shape)\n",
        "print(val.shape)\n",
        "test.shape"
      ],
      "execution_count": 0,
      "outputs": [
        {
          "output_type": "stream",
          "text": [
            "(5199, 23)\n",
            "(1300, 23)\n"
          ],
          "name": "stdout"
        },
        {
          "output_type": "execute_result",
          "data": {
            "text/plain": [
              "(1625, 23)"
            ]
          },
          "metadata": {
            "tags": []
          },
          "execution_count": 13
        }
      ]
    },
    {
      "cell_type": "markdown",
      "metadata": {
        "id": "VH6E-4IQG0jl",
        "colab_type": "text"
      },
      "source": [
        "Find baseline accuracy\n"
      ]
    },
    {
      "cell_type": "code",
      "metadata": {
        "id": "2wbPvPYiGzKk",
        "colab_type": "code",
        "outputId": "691420db-87ef-41ae-9a3e-a6e7ea434960",
        "colab": {
          "base_uri": "https://localhost:8080/",
          "height": 33
        }
      },
      "source": [
        "df['stalk-root'].unique()"
      ],
      "execution_count": 0,
      "outputs": [
        {
          "output_type": "execute_result",
          "data": {
            "text/plain": [
              "array(['equal', 'club', 'bulbous', 'rooted', 'missing'], dtype=object)"
            ]
          },
          "metadata": {
            "tags": []
          },
          "execution_count": 14
        }
      ]
    },
    {
      "cell_type": "code",
      "metadata": {
        "id": "aYumdezEJJv7",
        "colab_type": "code",
        "outputId": "a0579aa9-cde1-43ca-ee3b-a1e8502a434a",
        "colab": {
          "base_uri": "https://localhost:8080/",
          "height": 33
        }
      },
      "source": [
        "import category_encoders as ce\n",
        "from sklearn.pipeline import make_pipeline\n",
        "from sklearn.tree import DecisionTreeClassifier\n",
        "\n",
        "# target - 'poisonous' # defined above\n",
        "# features # defined above\n",
        "\n",
        "X_train = train[features]\n",
        "y_train = train[target]\n",
        "\n",
        "X_test = test[features]\n",
        "y_test = test[target]\n",
        "\n",
        "X_val = val[features]\n",
        "y_val = val[target]\n",
        "\n",
        "pipeline = make_pipeline(\n",
        "    ce.OrdinalEncoder(),\n",
        "    DecisionTreeClassifier(max_depth=3)\n",
        ")\n",
        "\n",
        "pipeline.fit(X_train, y_train)\n",
        "\n",
        "print('Validation Accuracy: ', pipeline.score(X_val, y_val))"
      ],
      "execution_count": 0,
      "outputs": [
        {
          "output_type": "stream",
          "text": [
            "Validation Accuracy:  0.9907692307692307\n"
          ],
          "name": "stdout"
        }
      ]
    },
    {
      "cell_type": "code",
      "metadata": {
        "id": "zbe-QZt7UUxd",
        "colab_type": "code",
        "outputId": "51b970ba-94f1-43e9-8589-c4dca0c5f60f",
        "colab": {
          "base_uri": "https://localhost:8080/",
          "height": 131
        }
      },
      "source": [
        "X_train.columns"
      ],
      "execution_count": 0,
      "outputs": [
        {
          "output_type": "execute_result",
          "data": {
            "text/plain": [
              "Index(['spore-print-color', 'ring-type', 'habitat', 'veil-color',\n",
              "       'stalk-color-below-ring', 'cap-surface', 'ring-number', 'cap-color',\n",
              "       'veil-type', 'gill-spacing', 'stalk-surface-above-ring',\n",
              "       'stalk-color-above-ring', 'cap-shape', 'gill-color', 'gill-attachment',\n",
              "       'stalk-root', 'gill-size', 'odor', 'population',\n",
              "       'stalk-surface-below-ring', 'stalk-shape', 'bruises?'],\n",
              "      dtype='object')"
            ]
          },
          "metadata": {
            "tags": []
          },
          "execution_count": 24
        }
      ]
    },
    {
      "cell_type": "code",
      "metadata": {
        "id": "BI7tCPOzQN6v",
        "colab_type": "code",
        "outputId": "52fb1b20-4362-467f-d6e5-76cb62f4359e",
        "colab": {
          "base_uri": "https://localhost:8080/",
          "height": 517
        }
      },
      "source": [
        "# Vizualize Decision Tree\n",
        "import graphviz\n",
        "from sklearn.tree import export_graphviz\n",
        "\n",
        "tree = pipeline.named_steps['decisiontreeclassifier']\n",
        "\n",
        "dot_data = export_graphviz(\n",
        "    tree,\n",
        "    out_file = None,\n",
        "    feature_names = X_train.columns,\n",
        "    # class_names = y.unique().astype(str),\n",
        "    filled = True,\n",
        "    # impurity=False,\n",
        "    # proportion=True,\n",
        ")\n",
        "\n",
        "graphviz.Source(dot_data)"
      ],
      "execution_count": 0,
      "outputs": [
        {
          "output_type": "execute_result",
          "data": {
            "text/plain": [
              "<graphviz.files.Source at 0x7f45e5001e80>"
            ],
            "image/svg+xml": "<?xml version=\"1.0\" encoding=\"UTF-8\" standalone=\"no\"?>\n<!DOCTYPE svg PUBLIC \"-//W3C//DTD SVG 1.1//EN\"\n \"http://www.w3.org/Graphics/SVG/1.1/DTD/svg11.dtd\">\n<!-- Generated by graphviz version 2.40.1 (20161225.0304)\n -->\n<!-- Title: Tree Pages: 1 -->\n<svg width=\"830pt\" height=\"373pt\"\n viewBox=\"0.00 0.00 829.50 373.00\" xmlns=\"http://www.w3.org/2000/svg\" xmlns:xlink=\"http://www.w3.org/1999/xlink\">\n<g id=\"graph0\" class=\"graph\" transform=\"scale(1 1) rotate(0) translate(4 369)\">\n<title>Tree</title>\n<polygon fill=\"#ffffff\" stroke=\"transparent\" points=\"-4,4 -4,-369 825.5,-369 825.5,4 -4,4\"/>\n<!-- 0 -->\n<g id=\"node1\" class=\"node\">\n<title>0</title>\n<polygon fill=\"#fef9f6\" stroke=\"#000000\" points=\"481.5,-365 341.5,-365 341.5,-297 481.5,-297 481.5,-365\"/>\n<text text-anchor=\"middle\" x=\"411.5\" y=\"-349.8\" font-family=\"Times,serif\" font-size=\"14.00\" fill=\"#000000\">odor &lt;= 1.5</text>\n<text text-anchor=\"middle\" x=\"411.5\" y=\"-334.8\" font-family=\"Times,serif\" font-size=\"14.00\" fill=\"#000000\">gini = 0.5</text>\n<text text-anchor=\"middle\" x=\"411.5\" y=\"-319.8\" font-family=\"Times,serif\" font-size=\"14.00\" fill=\"#000000\">samples = 5199</text>\n<text text-anchor=\"middle\" x=\"411.5\" y=\"-304.8\" font-family=\"Times,serif\" font-size=\"14.00\" fill=\"#000000\">value = [2661, 2538]</text>\n</g>\n<!-- 1 -->\n<g id=\"node2\" class=\"node\">\n<title>1</title>\n<polygon fill=\"#e68540\" stroke=\"#000000\" points=\"408,-261 253,-261 253,-193 408,-193 408,-261\"/>\n<text text-anchor=\"middle\" x=\"330.5\" y=\"-245.8\" font-family=\"Times,serif\" font-size=\"14.00\" fill=\"#000000\">spore&#45;print&#45;color &lt;= 8.5</text>\n<text text-anchor=\"middle\" x=\"330.5\" y=\"-230.8\" font-family=\"Times,serif\" font-size=\"14.00\" fill=\"#000000\">gini = 0.065</text>\n<text text-anchor=\"middle\" x=\"330.5\" y=\"-215.8\" font-family=\"Times,serif\" font-size=\"14.00\" fill=\"#000000\">samples = 2242</text>\n<text text-anchor=\"middle\" x=\"330.5\" y=\"-200.8\" font-family=\"Times,serif\" font-size=\"14.00\" fill=\"#000000\">value = [2166, 76]</text>\n</g>\n<!-- 0&#45;&gt;1 -->\n<g id=\"edge1\" class=\"edge\">\n<title>0&#45;&gt;1</title>\n<path fill=\"none\" stroke=\"#000000\" d=\"M384.9776,-296.9465C378.0546,-288.0578 370.5106,-278.3716 363.304,-269.1188\"/>\n<polygon fill=\"#000000\" stroke=\"#000000\" points=\"365.988,-266.8688 357.082,-261.13 360.4654,-271.1701 365.988,-266.8688\"/>\n<text text-anchor=\"middle\" x=\"353.9977\" y=\"-282.239\" font-family=\"Times,serif\" font-size=\"14.00\" fill=\"#000000\">True</text>\n</g>\n<!-- 6 -->\n<g id=\"node7\" class=\"node\">\n<title>6</title>\n<polygon fill=\"#61b1ea\" stroke=\"#000000\" points=\"558.5,-261 426.5,-261 426.5,-193 558.5,-193 558.5,-261\"/>\n<text text-anchor=\"middle\" x=\"492.5\" y=\"-245.8\" font-family=\"Times,serif\" font-size=\"14.00\" fill=\"#000000\">stalk&#45;root &lt;= 2.5</text>\n<text text-anchor=\"middle\" x=\"492.5\" y=\"-230.8\" font-family=\"Times,serif\" font-size=\"14.00\" fill=\"#000000\">gini = 0.279</text>\n<text text-anchor=\"middle\" x=\"492.5\" y=\"-215.8\" font-family=\"Times,serif\" font-size=\"14.00\" fill=\"#000000\">samples = 2957</text>\n<text text-anchor=\"middle\" x=\"492.5\" y=\"-200.8\" font-family=\"Times,serif\" font-size=\"14.00\" fill=\"#000000\">value = [495, 2462]</text>\n</g>\n<!-- 0&#45;&gt;6 -->\n<g id=\"edge6\" class=\"edge\">\n<title>0&#45;&gt;6</title>\n<path fill=\"none\" stroke=\"#000000\" d=\"M438.0224,-296.9465C444.9454,-288.0578 452.4894,-278.3716 459.696,-269.1188\"/>\n<polygon fill=\"#000000\" stroke=\"#000000\" points=\"462.5346,-271.1701 465.918,-261.13 457.012,-266.8688 462.5346,-271.1701\"/>\n<text text-anchor=\"middle\" x=\"469.0023\" y=\"-282.239\" font-family=\"Times,serif\" font-size=\"14.00\" fill=\"#000000\">False</text>\n</g>\n<!-- 2 -->\n<g id=\"node3\" class=\"node\">\n<title>2</title>\n<polygon fill=\"#e5833c\" stroke=\"#000000\" points=\"266,-157 79,-157 79,-89 266,-89 266,-157\"/>\n<text text-anchor=\"middle\" x=\"172.5\" y=\"-141.8\" font-family=\"Times,serif\" font-size=\"14.00\" fill=\"#000000\">stalk&#45;color&#45;below&#45;ring &lt;= 7.5</text>\n<text text-anchor=\"middle\" x=\"172.5\" y=\"-126.8\" font-family=\"Times,serif\" font-size=\"14.00\" fill=\"#000000\">gini = 0.031</text>\n<text text-anchor=\"middle\" x=\"172.5\" y=\"-111.8\" font-family=\"Times,serif\" font-size=\"14.00\" fill=\"#000000\">samples = 2201</text>\n<text text-anchor=\"middle\" x=\"172.5\" y=\"-96.8\" font-family=\"Times,serif\" font-size=\"14.00\" fill=\"#000000\">value = [2166, 35]</text>\n</g>\n<!-- 1&#45;&gt;2 -->\n<g id=\"edge2\" class=\"edge\">\n<title>1&#45;&gt;2</title>\n<path fill=\"none\" stroke=\"#000000\" d=\"M278.7649,-192.9465C264.1696,-183.3395 248.1591,-172.8009 233.0942,-162.8848\"/>\n<polygon fill=\"#000000\" stroke=\"#000000\" points=\"234.6286,-159.7046 224.3513,-157.13 230.7799,-165.5517 234.6286,-159.7046\"/>\n</g>\n<!-- 5 -->\n<g id=\"node6\" class=\"node\">\n<title>5</title>\n<polygon fill=\"#399de5\" stroke=\"#000000\" points=\"385.5,-149.5 283.5,-149.5 283.5,-96.5 385.5,-96.5 385.5,-149.5\"/>\n<text text-anchor=\"middle\" x=\"334.5\" y=\"-134.3\" font-family=\"Times,serif\" font-size=\"14.00\" fill=\"#000000\">gini = 0.0</text>\n<text text-anchor=\"middle\" x=\"334.5\" y=\"-119.3\" font-family=\"Times,serif\" font-size=\"14.00\" fill=\"#000000\">samples = 41</text>\n<text text-anchor=\"middle\" x=\"334.5\" y=\"-104.3\" font-family=\"Times,serif\" font-size=\"14.00\" fill=\"#000000\">value = [0, 41]</text>\n</g>\n<!-- 1&#45;&gt;5 -->\n<g id=\"edge5\" class=\"edge\">\n<title>1&#45;&gt;5</title>\n<path fill=\"none\" stroke=\"#000000\" d=\"M331.8097,-192.9465C332.2207,-182.2621 332.6759,-170.4254 333.0933,-159.5742\"/>\n<polygon fill=\"#000000\" stroke=\"#000000\" points=\"336.5921,-159.6693 333.4791,-149.5422 329.5973,-159.4002 336.5921,-159.6693\"/>\n</g>\n<!-- 3 -->\n<g id=\"node4\" class=\"node\">\n<title>3</title>\n<polygon fill=\"#e5823b\" stroke=\"#000000\" points=\"125,-53 0,-53 0,0 125,0 125,-53\"/>\n<text text-anchor=\"middle\" x=\"62.5\" y=\"-37.8\" font-family=\"Times,serif\" font-size=\"14.00\" fill=\"#000000\">gini = 0.016</text>\n<text text-anchor=\"middle\" x=\"62.5\" y=\"-22.8\" font-family=\"Times,serif\" font-size=\"14.00\" fill=\"#000000\">samples = 2184</text>\n<text text-anchor=\"middle\" x=\"62.5\" y=\"-7.8\" font-family=\"Times,serif\" font-size=\"14.00\" fill=\"#000000\">value = [2166, 18]</text>\n</g>\n<!-- 2&#45;&gt;3 -->\n<g id=\"edge3\" class=\"edge\">\n<title>2&#45;&gt;3</title>\n<path fill=\"none\" stroke=\"#000000\" d=\"M133.7181,-88.9777C122.967,-79.546 111.3078,-69.3178 100.5962,-59.9208\"/>\n<polygon fill=\"#000000\" stroke=\"#000000\" points=\"102.816,-57.2122 92.9905,-53.2485 98.1996,-62.4743 102.816,-57.2122\"/>\n</g>\n<!-- 4 -->\n<g id=\"node5\" class=\"node\">\n<title>4</title>\n<polygon fill=\"#399de5\" stroke=\"#000000\" points=\"245.5,-53 143.5,-53 143.5,0 245.5,0 245.5,-53\"/>\n<text text-anchor=\"middle\" x=\"194.5\" y=\"-37.8\" font-family=\"Times,serif\" font-size=\"14.00\" fill=\"#000000\">gini = 0.0</text>\n<text text-anchor=\"middle\" x=\"194.5\" y=\"-22.8\" font-family=\"Times,serif\" font-size=\"14.00\" fill=\"#000000\">samples = 17</text>\n<text text-anchor=\"middle\" x=\"194.5\" y=\"-7.8\" font-family=\"Times,serif\" font-size=\"14.00\" fill=\"#000000\">value = [0, 17]</text>\n</g>\n<!-- 2&#45;&gt;4 -->\n<g id=\"edge4\" class=\"edge\">\n<title>2&#45;&gt;4</title>\n<path fill=\"none\" stroke=\"#000000\" d=\"M180.2564,-88.9777C182.1561,-80.6449 184.1976,-71.6903 186.1249,-63.2364\"/>\n<polygon fill=\"#000000\" stroke=\"#000000\" points=\"189.5915,-63.7763 188.4019,-53.2485 182.7666,-62.2203 189.5915,-63.7763\"/>\n</g>\n<!-- 7 -->\n<g id=\"node8\" class=\"node\">\n<title>7</title>\n<polygon fill=\"#3ea0e6\" stroke=\"#000000\" points=\"566,-157 411,-157 411,-89 566,-89 566,-157\"/>\n<text text-anchor=\"middle\" x=\"488.5\" y=\"-141.8\" font-family=\"Times,serif\" font-size=\"14.00\" fill=\"#000000\">spore&#45;print&#45;color &lt;= 5.0</text>\n<text text-anchor=\"middle\" x=\"488.5\" y=\"-126.8\" font-family=\"Times,serif\" font-size=\"14.00\" fill=\"#000000\">gini = 0.049</text>\n<text text-anchor=\"middle\" x=\"488.5\" y=\"-111.8\" font-family=\"Times,serif\" font-size=\"14.00\" fill=\"#000000\">samples = 2329</text>\n<text text-anchor=\"middle\" x=\"488.5\" y=\"-96.8\" font-family=\"Times,serif\" font-size=\"14.00\" fill=\"#000000\">value = [59, 2270]</text>\n</g>\n<!-- 6&#45;&gt;7 -->\n<g id=\"edge7\" class=\"edge\">\n<title>6&#45;&gt;7</title>\n<path fill=\"none\" stroke=\"#000000\" d=\"M491.1903,-192.9465C490.876,-184.776 490.5358,-175.9318 490.2065,-167.3697\"/>\n<polygon fill=\"#000000\" stroke=\"#000000\" points=\"493.6945,-166.9881 489.8127,-157.13 486.6997,-167.2572 493.6945,-166.9881\"/>\n</g>\n<!-- 10 -->\n<g id=\"node11\" class=\"node\">\n<title>10</title>\n<polygon fill=\"#f0b890\" stroke=\"#000000\" points=\"709,-157 584,-157 584,-89 709,-89 709,-157\"/>\n<text text-anchor=\"middle\" x=\"646.5\" y=\"-141.8\" font-family=\"Times,serif\" font-size=\"14.00\" fill=\"#000000\">odor &lt;= 7.0</text>\n<text text-anchor=\"middle\" x=\"646.5\" y=\"-126.8\" font-family=\"Times,serif\" font-size=\"14.00\" fill=\"#000000\">gini = 0.425</text>\n<text text-anchor=\"middle\" x=\"646.5\" y=\"-111.8\" font-family=\"Times,serif\" font-size=\"14.00\" fill=\"#000000\">samples = 628</text>\n<text text-anchor=\"middle\" x=\"646.5\" y=\"-96.8\" font-family=\"Times,serif\" font-size=\"14.00\" fill=\"#000000\">value = [436, 192]</text>\n</g>\n<!-- 6&#45;&gt;10 -->\n<g id=\"edge10\" class=\"edge\">\n<title>6&#45;&gt;10</title>\n<path fill=\"none\" stroke=\"#000000\" d=\"M542.9254,-192.9465C557.1512,-183.3395 572.7563,-172.8009 587.4398,-162.8848\"/>\n<polygon fill=\"#000000\" stroke=\"#000000\" points=\"589.6329,-165.6272 595.9614,-157.13 585.7153,-159.8261 589.6329,-165.6272\"/>\n</g>\n<!-- 8 -->\n<g id=\"node9\" class=\"node\">\n<title>8</title>\n<polygon fill=\"#3b9ee5\" stroke=\"#000000\" points=\"428,-53 303,-53 303,0 428,0 428,-53\"/>\n<text text-anchor=\"middle\" x=\"365.5\" y=\"-37.8\" font-family=\"Times,serif\" font-size=\"14.00\" fill=\"#000000\">gini = 0.022</text>\n<text text-anchor=\"middle\" x=\"365.5\" y=\"-22.8\" font-family=\"Times,serif\" font-size=\"14.00\" fill=\"#000000\">samples = 2295</text>\n<text text-anchor=\"middle\" x=\"365.5\" y=\"-7.8\" font-family=\"Times,serif\" font-size=\"14.00\" fill=\"#000000\">value = [25, 2270]</text>\n</g>\n<!-- 7&#45;&gt;8 -->\n<g id=\"edge8\" class=\"edge\">\n<title>7&#45;&gt;8</title>\n<path fill=\"none\" stroke=\"#000000\" d=\"M445.1348,-88.9777C432.9964,-79.4545 419.8228,-69.1191 407.7499,-59.6473\"/>\n<polygon fill=\"#000000\" stroke=\"#000000\" points=\"409.622,-56.6674 399.5939,-53.2485 405.3011,-62.1748 409.622,-56.6674\"/>\n</g>\n<!-- 9 -->\n<g id=\"node10\" class=\"node\">\n<title>9</title>\n<polygon fill=\"#e58139\" stroke=\"#000000\" points=\"548.5,-53 446.5,-53 446.5,0 548.5,0 548.5,-53\"/>\n<text text-anchor=\"middle\" x=\"497.5\" y=\"-37.8\" font-family=\"Times,serif\" font-size=\"14.00\" fill=\"#000000\">gini = 0.0</text>\n<text text-anchor=\"middle\" x=\"497.5\" y=\"-22.8\" font-family=\"Times,serif\" font-size=\"14.00\" fill=\"#000000\">samples = 34</text>\n<text text-anchor=\"middle\" x=\"497.5\" y=\"-7.8\" font-family=\"Times,serif\" font-size=\"14.00\" fill=\"#000000\">value = [34, 0]</text>\n</g>\n<!-- 7&#45;&gt;9 -->\n<g id=\"edge9\" class=\"edge\">\n<title>7&#45;&gt;9</title>\n<path fill=\"none\" stroke=\"#000000\" d=\"M491.6731,-88.9777C492.4502,-80.6449 493.2854,-71.6903 494.0738,-63.2364\"/>\n<polygon fill=\"#000000\" stroke=\"#000000\" points=\"497.5615,-63.5303 495.0053,-53.2485 490.5917,-62.8802 497.5615,-63.5303\"/>\n</g>\n<!-- 11 -->\n<g id=\"node12\" class=\"node\">\n<title>11</title>\n<polygon fill=\"#e58139\" stroke=\"#000000\" points=\"693.5,-53 583.5,-53 583.5,0 693.5,0 693.5,-53\"/>\n<text text-anchor=\"middle\" x=\"638.5\" y=\"-37.8\" font-family=\"Times,serif\" font-size=\"14.00\" fill=\"#000000\">gini = 0.0</text>\n<text text-anchor=\"middle\" x=\"638.5\" y=\"-22.8\" font-family=\"Times,serif\" font-size=\"14.00\" fill=\"#000000\">samples = 436</text>\n<text text-anchor=\"middle\" x=\"638.5\" y=\"-7.8\" font-family=\"Times,serif\" font-size=\"14.00\" fill=\"#000000\">value = [436, 0]</text>\n</g>\n<!-- 10&#45;&gt;11 -->\n<g id=\"edge11\" class=\"edge\">\n<title>10&#45;&gt;11</title>\n<path fill=\"none\" stroke=\"#000000\" d=\"M643.6795,-88.9777C642.9887,-80.6449 642.2463,-71.6903 641.5455,-63.2364\"/>\n<polygon fill=\"#000000\" stroke=\"#000000\" points=\"645.0318,-62.9251 640.7175,-53.2485 638.0557,-63.5035 645.0318,-62.9251\"/>\n</g>\n<!-- 12 -->\n<g id=\"node13\" class=\"node\">\n<title>12</title>\n<polygon fill=\"#399de5\" stroke=\"#000000\" points=\"821.5,-53 711.5,-53 711.5,0 821.5,0 821.5,-53\"/>\n<text text-anchor=\"middle\" x=\"766.5\" y=\"-37.8\" font-family=\"Times,serif\" font-size=\"14.00\" fill=\"#000000\">gini = 0.0</text>\n<text text-anchor=\"middle\" x=\"766.5\" y=\"-22.8\" font-family=\"Times,serif\" font-size=\"14.00\" fill=\"#000000\">samples = 192</text>\n<text text-anchor=\"middle\" x=\"766.5\" y=\"-7.8\" font-family=\"Times,serif\" font-size=\"14.00\" fill=\"#000000\">value = [0, 192]</text>\n</g>\n<!-- 10&#45;&gt;12 -->\n<g id=\"edge12\" class=\"edge\">\n<title>10&#45;&gt;12</title>\n<path fill=\"none\" stroke=\"#000000\" d=\"M688.8075,-88.9777C700.6499,-79.4545 713.5021,-69.1191 725.2805,-59.6473\"/>\n<polygon fill=\"#000000\" stroke=\"#000000\" points=\"727.6382,-62.2427 733.2376,-53.2485 723.2514,-56.7877 727.6382,-62.2427\"/>\n</g>\n</g>\n</svg>\n"
          },
          "metadata": {
            "tags": []
          },
          "execution_count": 46
        }
      ]
    },
    {
      "cell_type": "markdown",
      "metadata": {
        "id": "n1Y1bCtXV-5g",
        "colab_type": "text"
      },
      "source": [
        "## ROC Curve"
      ]
    },
    {
      "cell_type": "code",
      "metadata": {
        "id": "qyMGNQs2WFBG",
        "colab_type": "code",
        "outputId": "b5453eb4-de85-453d-ac6a-7bdf2ec895b1",
        "colab": {
          "base_uri": "https://localhost:8080/",
          "height": 191
        }
      },
      "source": [
        "from sklearn.metrics import roc_curve\n",
        "y_pred_proba = pipeline.predict_proba(X_val)[:,-1]\n",
        "fpr, tpr, thresholds = roc_curve(y_val, y_pred_proba)\n",
        "pd.DataFrame({\n",
        "    'False Postivie Rate' : fpr,\n",
        "    'True Positive Rate' : tpr,\n",
        "    'Thresholds' : thresholds\n",
        "})"
      ],
      "execution_count": 0,
      "outputs": [
        {
          "output_type": "execute_result",
          "data": {
            "text/html": [
              "<div>\n",
              "<style scoped>\n",
              "    .dataframe tbody tr th:only-of-type {\n",
              "        vertical-align: middle;\n",
              "    }\n",
              "\n",
              "    .dataframe tbody tr th {\n",
              "        vertical-align: top;\n",
              "    }\n",
              "\n",
              "    .dataframe thead th {\n",
              "        text-align: right;\n",
              "    }\n",
              "</style>\n",
              "<table border=\"1\" class=\"dataframe\">\n",
              "  <thead>\n",
              "    <tr style=\"text-align: right;\">\n",
              "      <th></th>\n",
              "      <th>False Postivie Rate</th>\n",
              "      <th>True Positive Rate</th>\n",
              "      <th>Thresholds</th>\n",
              "    </tr>\n",
              "  </thead>\n",
              "  <tbody>\n",
              "    <tr>\n",
              "      <th>0</th>\n",
              "      <td>0.000000</td>\n",
              "      <td>0.000000</td>\n",
              "      <td>2.000000</td>\n",
              "    </tr>\n",
              "    <tr>\n",
              "      <th>1</th>\n",
              "      <td>0.000000</td>\n",
              "      <td>0.027070</td>\n",
              "      <td>1.000000</td>\n",
              "    </tr>\n",
              "    <tr>\n",
              "      <th>2</th>\n",
              "      <td>0.025298</td>\n",
              "      <td>0.925159</td>\n",
              "      <td>0.974667</td>\n",
              "    </tr>\n",
              "    <tr>\n",
              "      <th>3</th>\n",
              "      <td>0.199405</td>\n",
              "      <td>0.995223</td>\n",
              "      <td>0.305732</td>\n",
              "    </tr>\n",
              "    <tr>\n",
              "      <th>4</th>\n",
              "      <td>1.000000</td>\n",
              "      <td>1.000000</td>\n",
              "      <td>0.015902</td>\n",
              "    </tr>\n",
              "  </tbody>\n",
              "</table>\n",
              "</div>"
            ],
            "text/plain": [
              "   False Postivie Rate  True Positive Rate  Thresholds\n",
              "0             0.000000            0.000000    2.000000\n",
              "1             0.000000            0.027070    1.000000\n",
              "2             0.025298            0.925159    0.974667\n",
              "3             0.199405            0.995223    0.305732\n",
              "4             1.000000            1.000000    0.015902"
            ]
          },
          "metadata": {
            "tags": []
          },
          "execution_count": 33
        }
      ]
    },
    {
      "cell_type": "code",
      "metadata": {
        "id": "NTcWHfc7YDnL",
        "colab_type": "code",
        "outputId": "dd3f5c77-f152-4f97-d7e2-62c7bd3f9722",
        "colab": {
          "base_uri": "https://localhost:8080/",
          "height": 278
        }
      },
      "source": [
        "# Receiver Operating Chrcteristic plt\n",
        "import matplotlib.pyplot as plt\n",
        "plt.scatter(fpr,tpr)\n",
        "plt.plot(fpr,tpr)\n",
        "plt.xlabel('False Positive Rate')\n",
        "plt.ylabel('True Positive Rate');"
      ],
      "execution_count": 0,
      "outputs": [
        {
          "output_type": "display_data",
          "data": {
            "image/png": "[encoded data removed]",
            "text/plain": [
              "<Figure size 432x288 with 1 Axes>"
            ]
          },
          "metadata": {
            "tags": []
          }
        }
      ]
    },
    {
      "cell_type": "code",
      "metadata": {
        "id": "fzrfhN35ZAOO",
        "colab_type": "code",
        "outputId": "91e32826-dc02-4185-f244-b1a46e257905",
        "colab": {
          "base_uri": "https://localhost:8080/",
          "height": 33
        }
      },
      "source": [
        "from sklearn.metrics import roc_auc_score\n",
        "roc_auc_score(y_val, y_pred_proba)"
      ],
      "execution_count": 0,
      "outputs": [
        {
          "output_type": "execute_result",
          "data": {
            "text/plain": [
              "0.9779036813770094"
            ]
          },
          "metadata": {
            "tags": []
          },
          "execution_count": 39
        }
      ]
    },
    {
      "cell_type": "markdown",
      "metadata": {
        "id": "jiymWZ5mQyYq",
        "colab_type": "text"
      },
      "source": [
        "## Description of data:\n",
        "\n",
        "https://archive.ics.uci.edu/ml/machine-learning-databases/mushroom/agaricus-lepiota.names"
      ]
    },
    {
      "cell_type": "markdown",
      "metadata": {
        "id": "mjF4Z6UkQyQQ",
        "colab_type": "text"
      },
      "source": [
        "\n",
        "\n",
        "```\n",
        "# 1. Title: Mushroom Database\n",
        "\n",
        "2. Sources: \n",
        "    (a) Mushroom records drawn from The Audubon Society Field Guide to North\n",
        "        American Mushrooms (1981). G. H. Lincoff (Pres.), New York: Alfred\n",
        "        A. Knopf\n",
        "    (b) Donor: Jeff Schlimmer (Jeffrey.Schlimmer@a.gp.cs.cmu.edu)\n",
        "    (c) Date: 27 April 1987\n",
        "\n",
        "3. Past Usage:\n",
        "    1. Schlimmer,J.S. (1987). Concept Acquisition Through Representational\n",
        "       Adjustment (Technical Report 87-19).  Doctoral disseration, Department\n",
        "       of Information and Computer Science, University of California, Irvine.\n",
        "       --- STAGGER: asymptoted to 95% classification accuracy after reviewing\n",
        "           1000 instances.\n",
        "    2. Iba,W., Wogulis,J., & Langley,P. (1988).  Trading off Simplicity\n",
        "       and Coverage in Incremental Concept Learning. In Proceedings of \n",
        "       the 5th International Conference on Machine Learning, 73-79.\n",
        "       Ann Arbor, Michigan: Morgan Kaufmann.  \n",
        "       -- approximately the same results with their HILLARY algorithm    \n",
        "    3. In the following references a set of rules (given below) were\n",
        "\tlearned for this data set which may serve as a point of\n",
        "\tcomparison for other researchers.\n",
        "\n",
        "\tDuch W, Adamczak R, Grabczewski K (1996) Extraction of logical rules\n",
        "\tfrom training data using backpropagation networks, in: Proc. of the\n",
        "\tThe 1st Online Workshop on Soft Computing, 19-30.Aug.1996, pp. 25-30,\n",
        "\tavailable on-line at: http://www.bioele.nuee.nagoya-u.ac.jp/wsc1/\n",
        "\n",
        "\tDuch W, Adamczak R, Grabczewski K, Ishikawa M, Ueda H, Extraction of\n",
        "\tcrisp logical rules using constrained backpropagation networks -\n",
        "\tcomparison of two new approaches, in: Proc. of the European Symposium\n",
        "\ton Artificial Neural Networks (ESANN'97), Bruge, Belgium 16-18.4.1997,\n",
        "\tpp. xx-xx\n",
        "\n",
        "\tWlodzislaw Duch, Department of Computer Methods, Nicholas Copernicus\n",
        "\tUniversity, 87-100 Torun, Grudziadzka 5, Poland\n",
        "\te-mail: duch@phys.uni.torun.pl\n",
        "\tWWW     http://www.phys.uni.torun.pl/kmk/\n",
        "\t\n",
        "\tDate: Mon, 17 Feb 1997 13:47:40 +0100\n",
        "\tFrom: Wlodzislaw Duch <duch@phys.uni.torun.pl>\n",
        "\tOrganization: Dept. of Computer Methods, UMK\n",
        "\n",
        "\tI have attached a file containing logical rules for mushrooms.\n",
        "\tIt should be helpful for other people since only in the last year I\n",
        "\thave seen about 10 papers analyzing this dataset and obtaining quite\n",
        "\tcomplex rules. We will try to contribute other results later.\n",
        "\n",
        "\tWith best regards, Wlodek Duch\n",
        "\t________________________________________________________________\n",
        "\n",
        "\tLogical rules for the mushroom data sets.\n",
        "\n",
        "\tLogical rules given below seem to be the simplest possible for the\n",
        "\tmushroom dataset and therefore should be treated as benchmark results.\n",
        "\n",
        "\tDisjunctive rules for poisonous mushrooms, from most general\n",
        "\tto most specific:\n",
        "\n",
        "\tP_1) odor=NOT(almond.OR.anise.OR.none)\n",
        "\t     120 poisonous cases missed, 98.52% accuracy\n",
        "\n",
        "\tP_2) spore-print-color=green\n",
        "\t     48 cases missed, 99.41% accuracy\n",
        "         \n",
        "\tP_3) odor=none.AND.stalk-surface-below-ring=scaly.AND.\n",
        "\t          (stalk-color-above-ring=NOT.brown) \n",
        "\t     8 cases missed, 99.90% accuracy\n",
        "         \n",
        "\tP_4) habitat=leaves.AND.cap-color=white\n",
        "\t         100% accuracy     \n",
        "\n",
        "\tRule P_4) may also be\n",
        "\n",
        "\tP_4') population=clustered.AND.cap_color=white\n",
        "\n",
        "\tThese rule involve 6 attributes (out of 22). Rules for edible\n",
        "\tmushrooms are obtained as negation of the rules given above, for\n",
        "\texample the rule:\n",
        "\n",
        "\todor=(almond.OR.anise.OR.none).AND.spore-print-color=NOT.green\n",
        "\n",
        "\tgives 48 errors, or 99.41% accuracy on the whole dataset.\n",
        "\n",
        "\tSeveral slightly more complex variations on these rules exist,\n",
        "\tinvolving other attributes, such as gill_size, gill_spacing,\n",
        "\tstalk_surface_above_ring, but the rules given above are the simplest\n",
        "\twe have found.\n",
        "\n",
        "\n",
        "4. Relevant Information:\n",
        "    This data set includes descriptions of hypothetical samples\n",
        "    corresponding to 23 species of gilled mushrooms in the Agaricus and\n",
        "    Lepiota Family (pp. 500-525).  Each species is identified as\n",
        "    definitely edible, definitely poisonous, or of unknown edibility and\n",
        "    not recommended.  This latter class was combined with the poisonous\n",
        "    one.  The Guide clearly states that there is no simple rule for\n",
        "    determining the edibility of a mushroom; no rule like ``leaflets\n",
        "    three, let it be'' for Poisonous Oak and Ivy.\n",
        "\n",
        "5. Number of Instances: 8124\n",
        "\n",
        "6. Number of Attributes: 22 (all nominally valued)\n",
        "\n",
        "7. Attribute Information: (classes: edible=e, poisonous=p)\n",
        "     1. cap-shape:                bell=b,conical=c,convex=x,flat=f,\n",
        "                                  knobbed=k,sunken=s\n",
        "     2. cap-surface:              fibrous=f,grooves=g,scaly=y,smooth=s\n",
        "     3. cap-color:                brown=n,buff=b,cinnamon=c,gray=g,green=r,\n",
        "                                  pink=p,purple=u,red=e,white=w,yellow=y\n",
        "     4. bruises?:                 bruises=t,no=f\n",
        "     5. odor:                     almond=a,anise=l,creosote=c,fishy=y,foul=f,\n",
        "                                  musty=m,none=n,pungent=p,spicy=s\n",
        "     6. gill-attachment:          attached=a,descending=d,free=f,notched=n\n",
        "     7. gill-spacing:             close=c,crowded=w,distant=d\n",
        "     8. gill-size:                broad=b,narrow=n\n",
        "     9. gill-color:               black=k,brown=n,buff=b,chocolate=h,gray=g,\n",
        "                                  green=r,orange=o,pink=p,purple=u,red=e,\n",
        "                                  white=w,yellow=y\n",
        "    10. stalk-shape:              enlarging=e,tapering=t\n",
        "    11. stalk-root:               bulbous=b,club=c,cup=u,equal=e,\n",
        "                                  rhizomorphs=z,rooted=r,missing=?\n",
        "    12. stalk-surface-above-ring: fibrous=f,scaly=y,silky=k,smooth=s\n",
        "    13. stalk-surface-below-ring: fibrous=f,scaly=y,silky=k,smooth=s\n",
        "    14. stalk-color-above-ring:   brown=n,buff=b,cinnamon=c,gray=g,orange=o,\n",
        "                                  pink=p,red=e,white=w,yellow=y\n",
        "    15. stalk-color-below-ring:   brown=n,buff=b,cinnamon=c,gray=g,orange=o,\n",
        "                                  pink=p,red=e,white=w,yellow=y\n",
        "    16. veil-type:                partial=p,universal=u\n",
        "    17. veil-color:               brown=n,orange=o,white=w,yellow=y\n",
        "    18. ring-number:              none=n,one=o,two=t\n",
        "    19. ring-type:                cobwebby=c,evanescent=e,flaring=f,large=l,\n",
        "                                  none=n,pendant=p,sheathing=s,zone=z\n",
        "    20. spore-print-color:        black=k,brown=n,buff=b,chocolate=h,green=r,\n",
        "                                  orange=o,purple=u,white=w,yellow=y\n",
        "    21. population:               abundant=a,clustered=c,numerous=n,\n",
        "                                  scattered=s,several=v,solitary=y\n",
        "    22. habitat:                  grasses=g,leaves=l,meadows=m,paths=p,\n",
        "                                  urban=u,waste=w,woods=d\n",
        "\n",
        "8. Missing Attribute Values: 2480 of them (denoted by \"?\"), all for\n",
        "   attribute #11.\n",
        "\n",
        "9. Class Distribution: \n",
        "    --    edible: 4208 (51.8%)\n",
        "    -- poisonous: 3916 (48.2%)\n",
        "    --     total: 8124 instances\n",
        "```\n",
        "\n"
      ]
    },
    {
      "cell_type": "markdown",
      "metadata": {
        "id": "5PgZLXGoHs2X",
        "colab_type": "text"
      },
      "source": [
        "https://www.youtube.com/watch?time_continue=692&v=-6s2srZT4j0&feature=emb_logo\n"
      ]
    }
  ]
}