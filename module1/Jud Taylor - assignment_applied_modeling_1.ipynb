{
  "nbformat": 4,
  "nbformat_minor": 0,
  "metadata": {
    "colab": {
      "name": "Copy of assignment_applied_modeling_1.ipynb",
      "provenance": [],
      "collapsed_sections": [],
      "include_colab_link": true
    },
    "kernelspec": {
      "display_name": "Python 3",
      "language": "python",
      "name": "python3"
    },
    "language_info": {
      "codemirror_mode": {
        "name": "ipython",
        "version": 3
      },
      "file_extension": ".py",
      "mimetype": "text/x-python",
      "name": "python",
      "nbconvert_exporter": "python",
      "pygments_lexer": "ipython3",
      "version": "3.7.3"
    }
  },
  "cells": [
    {
      "cell_type": "markdown",
      "metadata": {
        "id": "view-in-github",
        "colab_type": "text"
      },
      "source": [
        "<a href=\"https://colab.research.google.com/github/gptix/DS-Unit-2-Applied-Modeling/blob/master/module1/Jud%20Taylor%20-%20assignment_applied_modeling_1.ipynb\" target=\"_parent\"><img src=\"https://colab.research.google.com/assets/colab-badge.svg\" alt=\"Open In Colab\"/></a>"
      ]
    },
    {
      "cell_type": "markdown",
      "metadata": {
        "colab_type": "text",
        "id": "nCc3XZEyG3XV"
      },
      "source": [
        "Lambda School Data Science\n",
        "\n",
        "*Unit 2, Sprint 3, Module 1*\n",
        "\n",
        "---\n",
        "\n",
        "\n",
        "# Define ML problems\n",
        "\n",
        "You will use your portfolio project dataset for all assignments this sprint.\n",
        "\n",
        "## Assignment\n",
        "\n",
        "Complete these tasks for your project, and document your decisions.\n",
        "\n",
        "- [ ] Choose your target. Which column in your tabular dataset will you predict?\n",
        "- [ ] Is your problem regression or classification?\n",
        "- [ ] How is your target distributed?\n",
        "    - Classification: How many classes? Are the classes imbalanced?\n",
        "    - Regression: Is the target right-skewed? If so, you may want to log transform the target.\n",
        "- [ ] Choose your evaluation metric(s).\n",
        "    - Classification: Is your majority class frequency >= 50% and < 70% ? If so, you can just use accuracy if you want. Outside that range, accuracy could be misleading. What evaluation metric will you choose, in addition to or instead of accuracy?\n",
        "    - Regression: Will you use mean absolute error, root mean squared error, R^2, or other regression metrics?\n",
        "- [ ] Choose which observations you will use to train, validate, and test your model.\n",
        "    - Are some observations outliers? Will you exclude them?\n",
        "    - Will you do a random split or a time-based split?\n",
        "- [ ] Begin to clean and explore your data.\n",
        "- [ ] Begin to choose which features, if any, to exclude. Would some features \"leak\" future information?\n",
        "\n",
        "If you haven't found a dataset yet, do that today. [Review requirements for your portfolio project](https://lambdaschool.github.io/ds/unit2) and choose your dataset."
      ]
    },
    {
      "cell_type": "markdown",
      "metadata": {
        "id": "i0Y23agYxZpD",
        "colab_type": "text"
      },
      "source": [
        "Question: **Is this mushroom poisonous?**\n",
        "\n",
        "Data set: https://archive.ics.uci.edu/ml/datasets/mushroom\n",
        "\n",
        "This is NOT one of the most popular UCI datasets."
      ]
    },
    {
      "cell_type": "code",
      "metadata": {
        "id": "hv5eQQAAIxsm",
        "colab_type": "code",
        "colab": {}
      },
      "source": [
        "%%capture\n",
        "import sys\n",
        "\n",
        "# If Colab:\n",
        "if 'google.colab' in sys.modules:\n",
        "    DATA_PATH = 'https://raw.githubusercontent.com/gptix/Project2/master/'\n",
        "    !pip install category_encoders==2.*\n",
        "\n",
        "# If local:\n",
        "else:\n",
        "    DATA_PATH = '../data/'"
      ],
      "execution_count": 0,
      "outputs": []
    },
    {
      "cell_type": "code",
      "metadata": {
        "id": "umtaqvXAJdvY",
        "colab_type": "code",
        "outputId": "75871fae-f42e-409e-8e97-c149918f896c",
        "colab": {
          "base_uri": "https://localhost:8080/",
          "height": 275
        }
      },
      "source": [
        "import pandas as pd\n",
        "\n",
        "# I extracted these column names from the text file \n",
        "# https://archive.ics.uci.edu/ml/machine-learning-databases/mushroom/agaricus-lepiota.names\n",
        "# I added the column 'poisonous', which was unlabeled in the original set.\n",
        "\n",
        "colnames = ['poisonous', 'cap-shape', 'cap-surface', 'cap-color', 'bruises?',\n",
        "            'odor', 'gill-attachment', 'gill-spacing', 'gill-size',\n",
        "            'gill-color', 'stalk-shape', 'stalk-root', \n",
        "            'stalk-surface-above-ring', 'stalk-surface-below-ring',\n",
        "            'stalk-color-above-ring', 'stalk-color-below-ring', 'veil-type', \n",
        "            'veil-color', 'ring-number', 'ring-type', 'spore-print-color', \n",
        "            'population', 'habitat']\n",
        "\n",
        "filename = 'agaricus-lepiota.data?token=AFCZYWEJZMR7ABZFRB62GKK6AEJIM'\n",
        "\n",
        "df = pd.read_csv(DATA_PATH + filename, header=None, names=colnames)\n",
        "df.shape\n",
        "\n",
        "df.head()\n",
        "\n",
        "# examine data"
      ],
      "execution_count": 13,
      "outputs": [
        {
          "output_type": "execute_result",
          "data": {
            "text/html": [
              "<div>\n",
              "<style scoped>\n",
              "    .dataframe tbody tr th:only-of-type {\n",
              "        vertical-align: middle;\n",
              "    }\n",
              "\n",
              "    .dataframe tbody tr th {\n",
              "        vertical-align: top;\n",
              "    }\n",
              "\n",
              "    .dataframe thead th {\n",
              "        text-align: right;\n",
              "    }\n",
              "</style>\n",
              "<table border=\"1\" class=\"dataframe\">\n",
              "  <thead>\n",
              "    <tr style=\"text-align: right;\">\n",
              "      <th></th>\n",
              "      <th>poisonous</th>\n",
              "      <th>cap-shape</th>\n",
              "      <th>cap-surface</th>\n",
              "      <th>cap-color</th>\n",
              "      <th>bruises?</th>\n",
              "      <th>odor</th>\n",
              "      <th>gill-attachment</th>\n",
              "      <th>gill-spacing</th>\n",
              "      <th>gill-size</th>\n",
              "      <th>gill-color</th>\n",
              "      <th>stalk-shape</th>\n",
              "      <th>stalk-root</th>\n",
              "      <th>stalk-surface-above-ring</th>\n",
              "      <th>stalk-surface-below-ring</th>\n",
              "      <th>stalk-color-above-ring</th>\n",
              "      <th>stalk-color-below-ring</th>\n",
              "      <th>veil-type</th>\n",
              "      <th>veil-color</th>\n",
              "      <th>ring-number</th>\n",
              "      <th>ring-type</th>\n",
              "      <th>spore-print-color</th>\n",
              "      <th>population</th>\n",
              "      <th>habitat</th>\n",
              "    </tr>\n",
              "  </thead>\n",
              "  <tbody>\n",
              "    <tr>\n",
              "      <th>0</th>\n",
              "      <td>p</td>\n",
              "      <td>x</td>\n",
              "      <td>s</td>\n",
              "      <td>n</td>\n",
              "      <td>t</td>\n",
              "      <td>p</td>\n",
              "      <td>f</td>\n",
              "      <td>c</td>\n",
              "      <td>n</td>\n",
              "      <td>k</td>\n",
              "      <td>e</td>\n",
              "      <td>e</td>\n",
              "      <td>s</td>\n",
              "      <td>s</td>\n",
              "      <td>w</td>\n",
              "      <td>w</td>\n",
              "      <td>p</td>\n",
              "      <td>w</td>\n",
              "      <td>o</td>\n",
              "      <td>p</td>\n",
              "      <td>k</td>\n",
              "      <td>s</td>\n",
              "      <td>u</td>\n",
              "    </tr>\n",
              "    <tr>\n",
              "      <th>1</th>\n",
              "      <td>e</td>\n",
              "      <td>x</td>\n",
              "      <td>s</td>\n",
              "      <td>y</td>\n",
              "      <td>t</td>\n",
              "      <td>a</td>\n",
              "      <td>f</td>\n",
              "      <td>c</td>\n",
              "      <td>b</td>\n",
              "      <td>k</td>\n",
              "      <td>e</td>\n",
              "      <td>c</td>\n",
              "      <td>s</td>\n",
              "      <td>s</td>\n",
              "      <td>w</td>\n",
              "      <td>w</td>\n",
              "      <td>p</td>\n",
              "      <td>w</td>\n",
              "      <td>o</td>\n",
              "      <td>p</td>\n",
              "      <td>n</td>\n",
              "      <td>n</td>\n",
              "      <td>g</td>\n",
              "    </tr>\n",
              "    <tr>\n",
              "      <th>2</th>\n",
              "      <td>e</td>\n",
              "      <td>b</td>\n",
              "      <td>s</td>\n",
              "      <td>w</td>\n",
              "      <td>t</td>\n",
              "      <td>l</td>\n",
              "      <td>f</td>\n",
              "      <td>c</td>\n",
              "      <td>b</td>\n",
              "      <td>n</td>\n",
              "      <td>e</td>\n",
              "      <td>c</td>\n",
              "      <td>s</td>\n",
              "      <td>s</td>\n",
              "      <td>w</td>\n",
              "      <td>w</td>\n",
              "      <td>p</td>\n",
              "      <td>w</td>\n",
              "      <td>o</td>\n",
              "      <td>p</td>\n",
              "      <td>n</td>\n",
              "      <td>n</td>\n",
              "      <td>m</td>\n",
              "    </tr>\n",
              "    <tr>\n",
              "      <th>3</th>\n",
              "      <td>p</td>\n",
              "      <td>x</td>\n",
              "      <td>y</td>\n",
              "      <td>w</td>\n",
              "      <td>t</td>\n",
              "      <td>p</td>\n",
              "      <td>f</td>\n",
              "      <td>c</td>\n",
              "      <td>n</td>\n",
              "      <td>n</td>\n",
              "      <td>e</td>\n",
              "      <td>e</td>\n",
              "      <td>s</td>\n",
              "      <td>s</td>\n",
              "      <td>w</td>\n",
              "      <td>w</td>\n",
              "      <td>p</td>\n",
              "      <td>w</td>\n",
              "      <td>o</td>\n",
              "      <td>p</td>\n",
              "      <td>k</td>\n",
              "      <td>s</td>\n",
              "      <td>u</td>\n",
              "    </tr>\n",
              "    <tr>\n",
              "      <th>4</th>\n",
              "      <td>e</td>\n",
              "      <td>x</td>\n",
              "      <td>s</td>\n",
              "      <td>g</td>\n",
              "      <td>f</td>\n",
              "      <td>n</td>\n",
              "      <td>f</td>\n",
              "      <td>w</td>\n",
              "      <td>b</td>\n",
              "      <td>k</td>\n",
              "      <td>t</td>\n",
              "      <td>e</td>\n",
              "      <td>s</td>\n",
              "      <td>s</td>\n",
              "      <td>w</td>\n",
              "      <td>w</td>\n",
              "      <td>p</td>\n",
              "      <td>w</td>\n",
              "      <td>o</td>\n",
              "      <td>e</td>\n",
              "      <td>n</td>\n",
              "      <td>a</td>\n",
              "      <td>g</td>\n",
              "    </tr>\n",
              "  </tbody>\n",
              "</table>\n",
              "</div>"
            ],
            "text/plain": [
              "  poisonous cap-shape cap-surface  ... spore-print-color population habitat\n",
              "0         p         x           s  ...                 k          s       u\n",
              "1         e         x           s  ...                 n          n       g\n",
              "2         e         b           s  ...                 n          n       m\n",
              "3         p         x           y  ...                 k          s       u\n",
              "4         e         x           s  ...                 n          a       g\n",
              "\n",
              "[5 rows x 23 columns]"
            ]
          },
          "metadata": {
            "tags": []
          },
          "execution_count": 13
        }
      ]
    },
    {
      "cell_type": "code",
      "metadata": {
        "id": "wIvtnd1_LXDf",
        "colab_type": "code",
        "outputId": "245cf22e-7277-4f97-df78-7d6d7fe1dea2",
        "colab": {
          "base_uri": "https://localhost:8080/",
          "height": 139
        }
      },
      "source": [
        "# I choose to predict 'poisonous'.\n",
        "target = 'poisonous'\n",
        "\n",
        "features = list(set(colnames) - set(target))\n",
        "\n",
        "print(features)\n",
        "y = df[target]\n",
        "y.describe()"
      ],
      "execution_count": 30,
      "outputs": [
        {
          "output_type": "stream",
          "text": [
            "['gill-size', 'ring-type', 'stalk-surface-below-ring', 'gill-spacing', 'stalk-surface-above-ring', 'spore-print-color', 'population', 'veil-color', 'cap-surface', 'bruises?', 'stalk-color-below-ring', 'stalk-root', 'ring-number', 'stalk-color-above-ring', 'cap-shape', 'gill-attachment', 'cap-color', 'odor', 'habitat', 'stalk-shape', 'gill-color', 'veil-type', 'poisonous']\n"
          ],
          "name": "stdout"
        },
        {
          "output_type": "execute_result",
          "data": {
            "text/plain": [
              "count      8124\n",
              "unique        2\n",
              "top       False\n",
              "freq       4208\n",
              "Name: poisonous, dtype: object"
            ]
          },
          "metadata": {
            "tags": []
          },
          "execution_count": 30
        }
      ]
    },
    {
      "cell_type": "markdown",
      "metadata": {
        "id": "FXrzk7tYMHe3",
        "colab_type": "text"
      },
      "source": [
        "The problem is most intuitively one of **classification**.\n",
        "\n",
        "I might also build a **predicted probability** model."
      ]
    },
    {
      "cell_type": "markdown",
      "metadata": {
        "id": "kswmA_jqMTiz",
        "colab_type": "text"
      },
      "source": [
        "## How is your target distributed?\n",
        "\n",
        "Classification: \n",
        "- How many classes? **Two**:\n",
        "  - poisonous\n",
        "  - edible\n",
        "\n",
        "- Are the classes imbalanced? **They are eerily balanced.**"
      ]
    },
    {
      "cell_type": "code",
      "metadata": {
        "id": "xSvG_nvkM2Gm",
        "colab_type": "code",
        "outputId": "a11dbe66-f4f1-47ff-85dd-d96c6fe6caf7",
        "colab": {
          "base_uri": "https://localhost:8080/",
          "height": 34
        }
      },
      "source": [
        "y.value_counts(normalize=True).max()"
      ],
      "execution_count": 15,
      "outputs": [
        {
          "output_type": "execute_result",
          "data": {
            "text/plain": [
              "0.517971442639094"
            ]
          },
          "metadata": {
            "tags": []
          },
          "execution_count": 15
        }
      ]
    },
    {
      "cell_type": "markdown",
      "metadata": {
        "id": "0Fqrbj3qzfdv",
        "colab_type": "text"
      },
      "source": [
        ""
      ]
    },
    {
      "cell_type": "code",
      "metadata": {
        "id": "MCFlnHDjzhpR",
        "colab_type": "code",
        "colab": {}
      },
      "source": [
        "# Derive binary classifiction target:\n",
        "df['poisonous'] = df['poisonous'] == 'p'"
      ],
      "execution_count": 0,
      "outputs": []
    },
    {
      "cell_type": "code",
      "metadata": {
        "id": "PKcEMZJN0Az3",
        "colab_type": "code",
        "colab": {
          "base_uri": "https://localhost:8080/",
          "height": 221
        },
        "outputId": "bbd3cdc7-fc22-46bf-946f-469220f7eb33"
      },
      "source": [
        "df['poisonous'].unique\n"
      ],
      "execution_count": 18,
      "outputs": [
        {
          "output_type": "execute_result",
          "data": {
            "text/plain": [
              "<bound method Series.unique of 0        True\n",
              "1       False\n",
              "2       False\n",
              "3        True\n",
              "4       False\n",
              "        ...  \n",
              "8119    False\n",
              "8120    False\n",
              "8121    False\n",
              "8122     True\n",
              "8123    False\n",
              "Name: poisonous, Length: 8124, dtype: bool>"
            ]
          },
          "metadata": {
            "tags": []
          },
          "execution_count": 18
        }
      ]
    },
    {
      "cell_type": "code",
      "metadata": {
        "id": "-syWTHM716Ab",
        "colab_type": "code",
        "colab": {
          "base_uri": "https://localhost:8080/",
          "height": 136
        },
        "outputId": "c63cb764-101b-46c9-8a27-7b15dc18f344"
      },
      "source": [
        "df.columns"
      ],
      "execution_count": 19,
      "outputs": [
        {
          "output_type": "execute_result",
          "data": {
            "text/plain": [
              "Index(['poisonous', 'cap-shape', 'cap-surface', 'cap-color', 'bruises?',\n",
              "       'odor', 'gill-attachment', 'gill-spacing', 'gill-size', 'gill-color',\n",
              "       'stalk-shape', 'stalk-root', 'stalk-surface-above-ring',\n",
              "       'stalk-surface-below-ring', 'stalk-color-above-ring',\n",
              "       'stalk-color-below-ring', 'veil-type', 'veil-color', 'ring-number',\n",
              "       'ring-type', 'spore-print-color', 'population', 'habitat'],\n",
              "      dtype='object')"
            ]
          },
          "metadata": {
            "tags": []
          },
          "execution_count": 19
        }
      ]
    },
    {
      "cell_type": "code",
      "metadata": {
        "id": "Bqeutzhc13xA",
        "colab_type": "code",
        "colab": {
          "base_uri": "https://localhost:8080/",
          "height": 153
        },
        "outputId": "355bfe46-9b70-42c7-c615-5fb9b90c90b7"
      },
      "source": [
        "df.groupby('cap-shape')['cap-shape'].count()"
      ],
      "execution_count": 27,
      "outputs": [
        {
          "output_type": "execute_result",
          "data": {
            "text/plain": [
              "cap-shape\n",
              "b     452\n",
              "c       4\n",
              "f    3152\n",
              "k     828\n",
              "s      32\n",
              "x    3656\n",
              "Name: cap-shape, dtype: int64"
            ]
          },
          "metadata": {
            "tags": []
          },
          "execution_count": 27
        }
      ]
    },
    {
      "cell_type": "markdown",
      "metadata": {
        "id": "__ioyipLNdM1",
        "colab_type": "text"
      },
      "source": [
        "## Choose your evaluation metric(s).\n",
        "\n",
        "Classification: Is your majority class frequency >= 50% and < 70% ?\n",
        "\n",
        " **Yes**. \n",
        "\n",
        "If so, you can just use accuracy if you want. \n",
        "\n",
        "\n",
        "I'll use **accuracy**.\n",
        "\n",
        "I'll want to use **precision**, since the cost of a false negative is high."
      ]
    },
    {
      "cell_type": "markdown",
      "metadata": {
        "id": "3lhOtLQDN08y",
        "colab_type": "text"
      },
      "source": [
        "Choose which observations you will use to train, validate, and test your model.\n",
        "\n",
        "Are some observations outliers? \n",
        "\n",
        "Will you exclude them?\n",
        "\n",
        "Will you do a random split or a time-based split?  \n",
        "\n",
        "**My data set has no time component.**  \n",
        "\n",
        "**I'll use a random split**.\n"
      ]
    },
    {
      "cell_type": "code",
      "metadata": {
        "id": "th1ImawiMqoA",
        "colab_type": "code",
        "colab": {
          "base_uri": "https://localhost:8080/",
          "height": 51
        },
        "outputId": "4de96943-6f54-4669-ef36-899525964204"
      },
      "source": [
        "from sklearn.model_selection import train_test_split\n",
        "train, test = train_test_split(df, test_size=0.25)\n",
        "print(train.shape)\n",
        "test.shape"
      ],
      "execution_count": 33,
      "outputs": [
        {
          "output_type": "stream",
          "text": [
            "(6093, 23)\n"
          ],
          "name": "stdout"
        },
        {
          "output_type": "execute_result",
          "data": {
            "text/plain": [
              "(2031, 23)"
            ]
          },
          "metadata": {
            "tags": []
          },
          "execution_count": 33
        }
      ]
    },
    {
      "cell_type": "code",
      "metadata": {
        "id": "8YvLOv34Lz0n",
        "colab_type": "code",
        "colab": {}
      },
      "source": [
        "df['cap-shape'] = df['cap-shape'].map({'b' : 'bell', 'c' : 'conical', 'x' : 'convex', 'f' : 'flat', 'k' : 'WYknobbed', 's' : 'sunken'})\n"
      ],
      "execution_count": 0,
      "outputs": []
    },
    {
      "cell_type": "markdown",
      "metadata": {
        "id": "jiymWZ5mQyYq",
        "colab_type": "text"
      },
      "source": [
        "## Text of the file describing the dataset:\n",
        "\n",
        "https://archive.ics.uci.edu/ml/machine-learning-databases/mushroom/agaricus-lepiota.names"
      ]
    },
    {
      "cell_type": "markdown",
      "metadata": {
        "id": "mjF4Z6UkQyQQ",
        "colab_type": "text"
      },
      "source": [
        "\n",
        "\n",
        "```\n",
        "# 1. Title: Mushroom Database\n",
        "\n",
        "2. Sources: \n",
        "    (a) Mushroom records drawn from The Audubon Society Field Guide to North\n",
        "        American Mushrooms (1981). G. H. Lincoff (Pres.), New York: Alfred\n",
        "        A. Knopf\n",
        "    (b) Donor: Jeff Schlimmer (Jeffrey.Schlimmer@a.gp.cs.cmu.edu)\n",
        "    (c) Date: 27 April 1987\n",
        "\n",
        "3. Past Usage:\n",
        "    1. Schlimmer,J.S. (1987). Concept Acquisition Through Representational\n",
        "       Adjustment (Technical Report 87-19).  Doctoral disseration, Department\n",
        "       of Information and Computer Science, University of California, Irvine.\n",
        "       --- STAGGER: asymptoted to 95% classification accuracy after reviewing\n",
        "           1000 instances.\n",
        "    2. Iba,W., Wogulis,J., & Langley,P. (1988).  Trading off Simplicity\n",
        "       and Coverage in Incremental Concept Learning. In Proceedings of \n",
        "       the 5th International Conference on Machine Learning, 73-79.\n",
        "       Ann Arbor, Michigan: Morgan Kaufmann.  \n",
        "       -- approximately the same results with their HILLARY algorithm    \n",
        "    3. In the following references a set of rules (given below) were\n",
        "\tlearned for this data set which may serve as a point of\n",
        "\tcomparison for other researchers.\n",
        "\n",
        "\tDuch W, Adamczak R, Grabczewski K (1996) Extraction of logical rules\n",
        "\tfrom training data using backpropagation networks, in: Proc. of the\n",
        "\tThe 1st Online Workshop on Soft Computing, 19-30.Aug.1996, pp. 25-30,\n",
        "\tavailable on-line at: http://www.bioele.nuee.nagoya-u.ac.jp/wsc1/\n",
        "\n",
        "\tDuch W, Adamczak R, Grabczewski K, Ishikawa M, Ueda H, Extraction of\n",
        "\tcrisp logical rules using constrained backpropagation networks -\n",
        "\tcomparison of two new approaches, in: Proc. of the European Symposium\n",
        "\ton Artificial Neural Networks (ESANN'97), Bruge, Belgium 16-18.4.1997,\n",
        "\tpp. xx-xx\n",
        "\n",
        "\tWlodzislaw Duch, Department of Computer Methods, Nicholas Copernicus\n",
        "\tUniversity, 87-100 Torun, Grudziadzka 5, Poland\n",
        "\te-mail: duch@phys.uni.torun.pl\n",
        "\tWWW     http://www.phys.uni.torun.pl/kmk/\n",
        "\t\n",
        "\tDate: Mon, 17 Feb 1997 13:47:40 +0100\n",
        "\tFrom: Wlodzislaw Duch <duch@phys.uni.torun.pl>\n",
        "\tOrganization: Dept. of Computer Methods, UMK\n",
        "\n",
        "\tI have attached a file containing logical rules for mushrooms.\n",
        "\tIt should be helpful for other people since only in the last year I\n",
        "\thave seen about 10 papers analyzing this dataset and obtaining quite\n",
        "\tcomplex rules. We will try to contribute other results later.\n",
        "\n",
        "\tWith best regards, Wlodek Duch\n",
        "\t________________________________________________________________\n",
        "\n",
        "\tLogical rules for the mushroom data sets.\n",
        "\n",
        "\tLogical rules given below seem to be the simplest possible for the\n",
        "\tmushroom dataset and therefore should be treated as benchmark results.\n",
        "\n",
        "\tDisjunctive rules for poisonous mushrooms, from most general\n",
        "\tto most specific:\n",
        "\n",
        "\tP_1) odor=NOT(almond.OR.anise.OR.none)\n",
        "\t     120 poisonous cases missed, 98.52% accuracy\n",
        "\n",
        "\tP_2) spore-print-color=green\n",
        "\t     48 cases missed, 99.41% accuracy\n",
        "         \n",
        "\tP_3) odor=none.AND.stalk-surface-below-ring=scaly.AND.\n",
        "\t          (stalk-color-above-ring=NOT.brown) \n",
        "\t     8 cases missed, 99.90% accuracy\n",
        "         \n",
        "\tP_4) habitat=leaves.AND.cap-color=white\n",
        "\t         100% accuracy     \n",
        "\n",
        "\tRule P_4) may also be\n",
        "\n",
        "\tP_4') population=clustered.AND.cap_color=white\n",
        "\n",
        "\tThese rule involve 6 attributes (out of 22). Rules for edible\n",
        "\tmushrooms are obtained as negation of the rules given above, for\n",
        "\texample the rule:\n",
        "\n",
        "\todor=(almond.OR.anise.OR.none).AND.spore-print-color=NOT.green\n",
        "\n",
        "\tgives 48 errors, or 99.41% accuracy on the whole dataset.\n",
        "\n",
        "\tSeveral slightly more complex variations on these rules exist,\n",
        "\tinvolving other attributes, such as gill_size, gill_spacing,\n",
        "\tstalk_surface_above_ring, but the rules given above are the simplest\n",
        "\twe have found.\n",
        "\n",
        "\n",
        "4. Relevant Information:\n",
        "    This data set includes descriptions of hypothetical samples\n",
        "    corresponding to 23 species of gilled mushrooms in the Agaricus and\n",
        "    Lepiota Family (pp. 500-525).  Each species is identified as\n",
        "    definitely edible, definitely poisonous, or of unknown edibility and\n",
        "    not recommended.  This latter class was combined with the poisonous\n",
        "    one.  The Guide clearly states that there is no simple rule for\n",
        "    determining the edibility of a mushroom; no rule like ``leaflets\n",
        "    three, let it be'' for Poisonous Oak and Ivy.\n",
        "\n",
        "5. Number of Instances: 8124\n",
        "\n",
        "6. Number of Attributes: 22 (all nominally valued)\n",
        "\n",
        "7. Attribute Information: (classes: edible=e, poisonous=p)\n",
        "     1. cap-shape:                bell=b,conical=c,convex=x,flat=f,\n",
        "                                  knobbed=k,sunken=s\n",
        "     2. cap-surface:              fibrous=f,grooves=g,scaly=y,smooth=s\n",
        "     3. cap-color:                brown=n,buff=b,cinnamon=c,gray=g,green=r,\n",
        "                                  pink=p,purple=u,red=e,white=w,yellow=y\n",
        "     4. bruises?:                 bruises=t,no=f\n",
        "     5. odor:                     almond=a,anise=l,creosote=c,fishy=y,foul=f,\n",
        "                                  musty=m,none=n,pungent=p,spicy=s\n",
        "     6. gill-attachment:          attached=a,descending=d,free=f,notched=n\n",
        "     7. gill-spacing:             close=c,crowded=w,distant=d\n",
        "     8. gill-size:                broad=b,narrow=n\n",
        "     9. gill-color:               black=k,brown=n,buff=b,chocolate=h,gray=g,\n",
        "                                  green=r,orange=o,pink=p,purple=u,red=e,\n",
        "                                  white=w,yellow=y\n",
        "    10. stalk-shape:              enlarging=e,tapering=t\n",
        "    11. stalk-root:               bulbous=b,club=c,cup=u,equal=e,\n",
        "                                  rhizomorphs=z,rooted=r,missing=?\n",
        "    12. stalk-surface-above-ring: fibrous=f,scaly=y,silky=k,smooth=s\n",
        "    13. stalk-surface-below-ring: fibrous=f,scaly=y,silky=k,smooth=s\n",
        "    14. stalk-color-above-ring:   brown=n,buff=b,cinnamon=c,gray=g,orange=o,\n",
        "                                  pink=p,red=e,white=w,yellow=y\n",
        "    15. stalk-color-below-ring:   brown=n,buff=b,cinnamon=c,gray=g,orange=o,\n",
        "                                  pink=p,red=e,white=w,yellow=y\n",
        "    16. veil-type:                partial=p,universal=u\n",
        "    17. veil-color:               brown=n,orange=o,white=w,yellow=y\n",
        "    18. ring-number:              none=n,one=o,two=t\n",
        "    19. ring-type:                cobwebby=c,evanescent=e,flaring=f,large=l,\n",
        "                                  none=n,pendant=p,sheathing=s,zone=z\n",
        "    20. spore-print-color:        black=k,brown=n,buff=b,chocolate=h,green=r,\n",
        "                                  orange=o,purple=u,white=w,yellow=y\n",
        "    21. population:               abundant=a,clustered=c,numerous=n,\n",
        "                                  scattered=s,several=v,solitary=y\n",
        "    22. habitat:                  grasses=g,leaves=l,meadows=m,paths=p,\n",
        "                                  urban=u,waste=w,woods=d\n",
        "\n",
        "8. Missing Attribute Values: 2480 of them (denoted by \"?\"), all for\n",
        "   attribute #11.\n",
        "\n",
        "9. Class Distribution: \n",
        "    --    edible: 4208 (51.8%)\n",
        "    -- poisonous: 3916 (48.2%)\n",
        "    --     total: 8124 instances\n",
        "```\n",
        "\n"
      ]
    }
  ]
}